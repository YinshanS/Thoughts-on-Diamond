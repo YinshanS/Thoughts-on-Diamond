{
 "cells": [
  {
   "cell_type": "markdown",
   "metadata": {},
   "source": [
    "<h1 id=\"tocheading\">Table of Contents</h1>\n",
    "<div id=\"toc\"></div>"
   ]
  },
  {
   "cell_type": "markdown",
   "metadata": {},
   "source": [
    "## Assumptions and Notations"
   ]
  },
  {
   "cell_type": "markdown",
   "metadata": {},
   "source": [
    "Continuing from the log utility, constant population and 2-state uncertainty assumption in [Prof. DeLong's notebook](https://nbviewer.jupyter.org/github/braddelong/WS2019/blob/master/Thinking_About_Blanchard%27s_Presidential_Address....ipynb?flushcache=true#-Thinking-About-Blanchard's-Presidential-Address...), copy some equations here for convenience. All variables are expressed in per-person value.\n",
    "\n",
    "(Notice the minor change in notations: here we use Q for total output and Y for total income)\n",
    "\n",
    "$$V = (1-\\beta)\\ln(C_y) + \\beta{\\ln(C_o)}$$\n",
    "\n",
    "$$Q_{t} = (1 + \\epsilon_{t})F(K_{t}) = (1 + \\epsilon_{t})(K_{t})^\\alpha$$\n",
    "\n",
    "where $\\epsilon_{t}$ can be $-\\sigma$ or $\\sigma$ with equal probability 0.5. Capital income of the old at time t would be \n",
    "$$ \\pi_t = \\alpha{Q_t} $$"
   ]
  },
  {
   "cell_type": "markdown",
   "metadata": {},
   "source": [
    "## The base case: Zero-debt case"
   ]
  },
  {
   "cell_type": "markdown",
   "metadata": {},
   "source": [
    "Denote the variables in the zero-debt case with *, then\n",
    "\n",
    "$$ W^*_t = (1- \\alpha){Q_t^*} $$\n",
    "\n",
    "$$ C^*_{y,t} = (1-\\beta)W_t^* = (1-\\beta)(1-\\alpha)(1 + \\epsilon_{t})F(K^*_{t}) $$\n",
    "\n",
    "$$ K^*_{t+1} = \\beta(1-\\alpha)(1 + \\epsilon_{t})F(K^*_{t}) $$\n",
    "\n",
    "$$ {R^f}_t^* =\\frac{{\\alpha}F({\\beta}W_t^*)}{{\\beta}W_t^*}\\left[ 1 - \\sigma^2 \\right] = \\frac{\\alpha[1-\\sigma^2]}{({\\beta}W_t^*)^{1-\\alpha}} \\ \\ \\text{(This holds only when the debt amount is very close to 0.)} $$\n",
    "In general, we would have\n",
    "$$$$\n",
    "\n",
    "$$R_t^*=\\frac{\\pi_t^*}{K_t^*}=\\frac{\\alpha(1+\\epsilon_t)}{(K_t^*)^{1-\\alpha}}$$\n",
    "\n",
    "$$ \\frac{(1-\\beta)}{C_{y,t}^*} = E_t \\left[ {R_{t+1}^*}\\frac{\\beta}{C^*_{o,t+1}} \\right] $$\n",
    "\n",
    "$$ \\frac{E_t(R_{t+1}^*)}{{R^f}_t^*} = \\frac{1}{1 - \\sigma^2} $$\n",
    "(derivation can be found [here](https://nbviewer.jupyter.org/github/braddelong/WS2019/blob/master/Thinking_About_Blanchard%27s_Presidential_Address....ipynb?flushcache=true#-Thinking-About-Blanchard's-Presidential-Address...).)\n",
    "\n",
    "We can further show by iteration that \n",
    "$$K^*_t=\\beta(1-\\alpha)Q_{t-1}=(1+\\epsilon_{t-1})\\beta(1-\\alpha)K_{t-1}^\\alpha=(K_1)^{\\alpha^{t-1}}\\prod^{t-1}_1[(1+\\epsilon_i)\\beta(1-\\alpha)]^{\\alpha^{t-1-i}}$$\n",
    "And thus we can get an explicit formula for utility of an agent living in time t. See derivation [here](https://github.com/YinshanS/Thoughts-on-Diamond/blob/master/scratch%20simplest%20case%20utility%20wo%20debt.pdf).\n",
    "\n",
    "(The general formula doesn't seem to be very helpful up to now. I included it here for future reference.)"
   ]
  },
  {
   "cell_type": "markdown",
   "metadata": {},
   "source": [
    "## With constant debt and proportional tax "
   ]
  },
  {
   "cell_type": "markdown",
   "metadata": {},
   "source": [
    "The young in period 1 solves \n",
    "$$\\max_{C_{y,1}} E[V_1]=(1-\\beta)ln(C_{y,1})+\\beta E[ln(C_{o,2})]$$\n",
    "$$\\max_{C_{y,1}} E[V_1]=(1-\\beta)ln(C_{y,1})+\\beta E[ln(\\alpha Q_2(1-\\tau_2)+DR_1^f)]$$"
   ]
  },
  {
   "cell_type": "markdown",
   "metadata": {},
   "source": [
    "FOC is thus \n",
    "$$\\frac{1-\\beta}{C_{y,1}}=E[\\frac{\\beta R_2}{R_2K_2+DR_2^f}]$$"
   ]
  },
  {
   "cell_type": "markdown",
   "metadata": {},
   "source": [
    "$$\\frac{1-\\beta}{C_{y,1}}=\\frac{1}{2}(\\frac{\\alpha \\beta A(1+\\sigma)K_{2}^{\\alpha-1}}{\\alpha A(1+\\sigma)K_{2}^{\\alpha}+DR_2^f}+\\frac{\\alpha \\beta A(1-\\sigma)K_{2}^{\\alpha-1}}{\\alpha A(1-\\sigma)K_{2}^{\\alpha}+DR_2^f}）$$"
   ]
  },
  {
   "cell_type": "markdown",
   "metadata": {},
   "source": [
    "Meanwhile, we also have\n",
    "$$\\frac{1-\\beta}{C_{y,1}}=R_2^fE[\\frac{\\beta}{C_{o,2}}]$$"
   ]
  },
  {
   "cell_type": "markdown",
   "metadata": {},
   "source": [
    "$$\\frac{1-\\beta}{(1-\\beta)Y_1}=\\frac{R_2^f\\beta}{2}(\\frac{1}{\\alpha A(1+\\sigma)K_1^\\alpha+DR_2^f}+\\frac{1}{\\alpha A(1-\\sigma)K_1^\\alpha+DR_2^f})$$\n",
    "\n",
    "$$\\frac{1}{Y_1}=\\frac{\\beta}{2}(\\frac{1}{\\frac{\\alpha A(1+\\sigma)K_1^\\alpha}{R_2^f}+D}+\\frac{1}{\\frac{\\alpha A(1-\\sigma)K_1^\\alpha}{R_2^f}+D})$$"
   ]
  },
  {
   "cell_type": "markdown",
   "metadata": {},
   "source": [
    "Since $E[R_2]=\\alpha AK_1^{\\alpha-1}$, set $$\\phi=\\frac{E[R_2]K_1}{R_2^f},$$then"
   ]
  },
  {
   "cell_type": "markdown",
   "metadata": {},
   "source": [
    "$$\\frac{1}{Y_1}=\\frac{\\beta}{2}(\\frac{1}{(1+\\sigma)\\phi+D}+\\frac{1}{(1-\\sigma)\\phi+D})$$\n",
    "\n",
    "$$\\frac{1}{Y_1}=\\beta(\\frac{\\phi+D}{(\\phi+D)^2-\\phi^2\\sigma^2})$$\n",
    "\n",
    "$$(\\phi+D)^2-\\phi^2\\sigma^2=\\beta Y_1(\\phi+D)$$\n",
    "\n",
    "$$\\phi=\\frac{\\beta Y_1-2D+\\sqrt{4\\sigma^2(D^2-\\beta Y_1D)+\\beta^2Y_1^2}}{2(1-\\sigma^2)}$$"
   ]
  },
  {
   "cell_type": "markdown",
   "metadata": {},
   "source": [
    "$$R_2^f=\\frac{2\\alpha A(\\beta Y_1-D)^\\alpha(1-\\sigma^2)}{\\beta Y_1-2D+\\sqrt{4\\sigma^2(D^2-\\beta Y_1D)+\\beta^2Y_1^2}}$$\n",
    "Check when $\\sigma^2=0$:\n",
    "$$R_2^f=\\frac{E[R_2]K_1}{\\beta Y1-D}=\\frac{E[R_2]K_1}{K_1}=E[R_2]$$ as it should.\n",
    "\n",
    "Check when $D=0$:\n",
    "$$R_2^f=\\frac{E[R_2]K_1(1-\\sigma^2)}{(\\beta Y1-D)}=(1-\\sigma^2)E[R_2]$$ as it should."
   ]
  },
  {
   "cell_type": "markdown",
   "metadata": {},
   "source": [
    "Notice that above formula holds if we assume the proportional tax applies to both risky and riskfree return. If the tax applies to risky return only, then $$R_2^f=\\frac{2\\alpha A(\\beta Y_1-D)^\\alpha(1-\\sigma^2)(1-\\tau_2)}{\\beta Y_1-2D+\\sqrt{4\\sigma^2(D^2-\\beta Y_1D)+\\beta^2Y_1^2}}$$"
   ]
  },
  {
   "cell_type": "markdown",
   "metadata": {},
   "source": [
    "Similarly, in general, with tax on all income,\n",
    "$$R_t^f=\\frac{2\\alpha A(\\beta Y_{t-1}-D)^\\alpha(1-\\sigma^2)}{\\beta Y_{t-1}-2D+\\sqrt{4\\sigma^2(D^2-\\beta Y_{t-1}D)+\\beta^2Y_{t-1}^2}}$$\n",
    "If only risky return is taxable, \n",
    "$$R_t^f=\\frac{2\\alpha A(\\beta Y_{t-1}-D)^\\alpha(1-\\sigma^2)(1-\\tau_t)}{\\beta Y_{t-1}-2D+\\sqrt{4\\sigma^2(D^2-\\beta Y_{t-1}D)+\\beta^2Y_{t-1}^2}}$$"
   ]
  },
  {
   "cell_type": "markdown",
   "metadata": {},
   "source": [
    "## With $D_t=\\gamma Y_t$ and proportional subsidy"
   ]
  },
  {
   "cell_type": "markdown",
   "metadata": {},
   "source": [
    "By assuming that $D_t$ is a constant fraction of income of the young, we can separate the effect of income(and all previous shocks) from $R_f$."
   ]
  },
  {
   "cell_type": "markdown",
   "metadata": {},
   "source": [
    "If debt amount is a fixed proportion of income of the young, \n",
    "$$D_t=\\gamma Y_t$$"
   ]
  },
  {
   "cell_type": "markdown",
   "metadata": {},
   "source": [
    "$$R_t^f=\\frac{2\\alpha A((\\beta-\\gamma)Y_{t-1})^\\alpha(1-\\sigma^2)}{(\\beta-2\\gamma) Y_{t-1}+Y_{t-1}\\sqrt{4\\sigma^2(\\gamma^2-\\beta\\gamma)+\\beta^2}}$$"
   ]
  },
  {
   "cell_type": "markdown",
   "metadata": {},
   "source": [
    "$$R_t^f=\\frac{2\\alpha A(\\beta-\\gamma)^\\alpha(1-\\sigma^2)Y_{t-1}^{\\alpha-1}}{\\beta-2\\gamma+\\sqrt{4\\sigma^2(\\gamma^2-\\beta\\gamma)+\\beta^2}}$$\n",
    "If only risky return is taxable, \n",
    "$$R_t^f=\\frac{2\\alpha A(\\beta-\\gamma)^\\alpha(1-\\sigma^2)(1-\\tau_t)Y_{t-1}^{\\alpha-1}}{\\beta-2\\gamma+\\sqrt{4\\sigma^2(\\gamma^2-\\beta\\gamma)+\\beta^2}}$$"
   ]
  },
  {
   "cell_type": "code",
   "execution_count": 2,
   "metadata": {},
   "outputs": [
    {
     "data": {
      "application/javascript": [
       "$.getScript('https://kmahelona.github.io/ipython_notebook_goodies/ipython_notebook_toc.js')\n"
      ],
      "text/plain": [
       "<IPython.core.display.Javascript object>"
      ]
     },
     "metadata": {},
     "output_type": "display_data"
    }
   ],
   "source": [
    "%%javascript\n",
    "$.getScript('https://kmahelona.github.io/ipython_notebook_goodies/ipython_notebook_toc.js')"
   ]
  }
 ],
 "metadata": {
  "kernelspec": {
   "display_name": "Python 3",
   "language": "python",
   "name": "python3"
  },
  "language_info": {
   "codemirror_mode": {
    "name": "ipython",
    "version": 3
   },
   "file_extension": ".py",
   "mimetype": "text/x-python",
   "name": "python",
   "nbconvert_exporter": "python",
   "pygments_lexer": "ipython3",
   "version": "3.6.5"
  },
  "latex_envs": {
   "LaTeX_envs_menu_present": false,
   "autoclose": true,
   "autocomplete": true,
   "bibliofile": "biblio.bib",
   "cite_by": "apalike",
   "current_citInitial": 1,
   "eqLabelWithNumbers": true,
   "eqNumInitial": 1,
   "hotkeys": {
    "equation": "Ctrl-E",
    "itemize": "Ctrl-I"
   },
   "labels_anchors": false,
   "latex_user_defs": false,
   "report_style_numbering": true,
   "user_envs_cfg": true
  },
  "toc": {
   "base_numbering": 1,
   "nav_menu": {
    "height": "139px",
    "width": "160px"
   },
   "number_sections": true,
   "sideBar": true,
   "skip_h1_title": false,
   "title_cell": "Table of Contents",
   "title_sidebar": "Contents",
   "toc_cell": false,
   "toc_position": {},
   "toc_section_display": true,
   "toc_window_display": false
  }
 },
 "nbformat": 4,
 "nbformat_minor": 2
}
