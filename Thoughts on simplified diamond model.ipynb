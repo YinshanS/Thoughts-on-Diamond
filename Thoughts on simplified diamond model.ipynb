{
 "cells": [
  {
   "cell_type": "markdown",
   "metadata": {},
   "source": [
    "# With A General Uncertainty in Output"
   ]
  },
  {
   "cell_type": "markdown",
   "metadata": {},
   "source": [
    "## Log Utility"
   ]
  },
  {
   "cell_type": "markdown",
   "metadata": {},
   "source": [
    "Assuming the Cobb-Douslas production and log utility, relax the uncertainty to a more general case.\n",
    "Let the output be \n",
    "\\begin{equation}\n",
    "Y_t=(1+X_t)F(K_t)\n",
    "\\end{equation}\n",
    "where $X_t$ is a random variable with c.d.f. $G_t(x)$."
   ]
  },
  {
   "cell_type": "markdown",
   "metadata": {},
   "source": [
    "Then \n",
    "\\begin{equation}\n",
    "C_{o,t+1}=R_{t+1}K_{t+1}=\\alpha(1+X_{t+1})F(\\beta W_t)\n",
    "\\end{equation}"
   ]
  },
  {
   "cell_type": "markdown",
   "metadata": {},
   "source": [
    "And recall FOC requires\n",
    "\\begin{equation*}\n",
    "\\frac{1-\\beta}{C_y,t}= E_t[R_{t+1}\\frac{\\beta}{C_{o,t+1}}]\n",
    "\\end{equation*}"
   ]
  },
  {
   "cell_type": "markdown",
   "metadata": {},
   "source": [
    "Therefore the risk-free interest rate $R_t^f$ and risky rate $R_{t+1}$ respectively must satisfy \n",
    "\\begin{equation}\n",
    "R_t^f=\\frac{1-\\beta}{\\beta C_y,t E[\\frac{1}{C_{0,t+1}}]}=\\frac{\\alpha F(\\beta W_t)}{\\beta W_t E[\\frac{1}{1+X_{t+1}}]}\n",
    "\\end{equation}\n",
    "\\begin{equation}\n",
    "E_t[R_{t+1}]=E_t[\\frac{C_{o,t+1}}{K_{t+1}}]=\\frac{\\alpha F(\\beta W_t)}{\\beta W_t}E_t[(1+X_{t+1})]\n",
    "\\end{equation}\n",
    "And the risk spread in this case would be \n",
    "\\begin{equation}\n",
    "\\frac{E_t(R_{t+1})}{R^f_t}=E_t[(1+X_{t+1})] E_t[\\frac{1}{1+X_{t+1}}]\n",
    "\\end{equation}"
   ]
  },
  {
   "cell_type": "markdown",
   "metadata": {},
   "source": [
    "## Cobb-Douglas Utility"
   ]
  },
  {
   "cell_type": "markdown",
   "metadata": {},
   "source": [
    "Assuming Cobb-Douslas production with same uncertainty representation and Cobb-Douglas utility($V=C_y^{1-\\beta}C_o^\\beta$), FOC requires\n",
    "\\begin{equation}\n",
    "E_t[(1-\\beta)(\\frac{C_{o,t+1}}{C_{y,t}})^\\beta]=E_t[R_{t+1}\\beta(\\frac{C_{y.t}}{C_{o,t+1}})^{1-\\beta}]\n",
    "\\label{foccob}\n",
    "\\end{equation}\n",
    "We may thus observe from the above equation that without uncertainty, we would get the same outcome as the log utility case. \n",
    "\n",
    "But with uncertainty, the risk-free interest rate $R_t^f$ and risky rate $R_{t+1}$ respectively must satisfy \n",
    "\\begin{equation}\n",
    "R_t^f=\\frac{E_t[(1-\\beta)(\\frac{C_{o,t+1}}{C_{y,t}})^\\beta]}{E_t[\\beta(\\frac{C_{y.t}}{C_{o,t+1}})^{1-\\beta}]}=\\frac{\\alpha F(\\beta W_t)}{\\beta W_t}\\frac{E_t[(1+X_{t+1})^\\beta]}{E_t[(1+X_{t+1})^{\\beta-1}]}\n",
    "\\end{equation}\n",
    "\\begin{equation}\n",
    "E[R_{t+1}]=E_t[\\frac{C_{o,t+1}}{K_{t+1}}]=\\frac{\\alpha F(\\beta W_t)}{\\beta W_t}E_t[(1+X_{t+1})]\n",
    "\\end{equation}\n",
    "And the risk spread in this case would be \n",
    "\\begin{equation}\n",
    "\\frac{E_t(R_{t+1})}{R^f_t}=\\frac{E_t[(1+X_{t+1})]E_t[(1+X_{t+1})^{\\beta-1}]}{E_t[(1+X_{t+1})^\\beta]}\n",
    "\\end{equation}\n",
    "\n",
    "\\textbf{Notice that in the above two cases, expectation of risky rates are the same. It is the monotonic transformation of utility function that distorted the risk preference of the consumer and thus changed how the risk-free interest rate depends on the distribution of $X_t$.}"
   ]
  },
  {
   "cell_type": "markdown",
   "metadata": {},
   "source": [
    "## A More General Utility Representation "
   ]
  },
  {
   "cell_type": "markdown",
   "metadata": {},
   "source": [
    "Now consider utility function\n",
    "\\begin{equation}\n",
    "V=u(C_{y,t})+\\beta u(C_{o,t+1})\n",
    "\\end{equation}  \n",
    "where $\\beta \\in (0,1)$ is discount factor and V satisfies monotonicity, concavity(implying the consumer prefers utility smoothing) and is differentiable. \n",
    "FOC would require\n",
    "\\begin{equation}\n",
    "E_t[\\frac{\\partial U}{\\partial C_{y,t}}]=E_t[R_{t+1}\\frac{\\partial U}{\\partial C_{o,t+1}}]\n",
    "\\end{equation}\n",
    "or equivalently,\n",
    "\\begin{equation}\n",
    "E_t[u'(C_{y,t})]=E_t[R_{t+1}\\beta u'(C_{o,t+1})]\n",
    "\\end{equation}\n",
    "Thus interest rates can be computed as\n",
    "\\begin{equation}\n",
    "R_t^f=\\frac{u'(C_{y,t})}{\\beta E_t[u'(C_{o,t+1})]}\n",
    "\\end{equation}\n",
    "\\begin{equation}\n",
    "E[R_{t+1}]=\\frac{u'(C_{y,t})}{\\beta}E_t[\\frac{1}{C_{o,t+1}}]\n",
    "\\end{equation}\n",
    "and the risk spread would be \n",
    "\\begin{equation}\n",
    "\\frac{E[R_{t+1}]}{R_t^f}=E_t[u'(C_{o,t+1})]E_t[\\frac{1}{u'(C_{o,t+1})}]\n",
    "\\end{equation}"
   ]
  },
  {
   "cell_type": "code",
   "execution_count": null,
   "metadata": {},
   "outputs": [],
   "source": []
  }
 ],
 "metadata": {
  "kernelspec": {
   "display_name": "Python 3",
   "language": "python",
   "name": "python3"
  },
  "language_info": {
   "codemirror_mode": {
    "name": "ipython",
    "version": 3
   },
   "file_extension": ".py",
   "mimetype": "text/x-python",
   "name": "python",
   "nbconvert_exporter": "python",
   "pygments_lexer": "ipython3",
   "version": "3.6.5"
  },
  "latex_envs": {
   "LaTeX_envs_menu_present": true,
   "autoclose": true,
   "autocomplete": false,
   "bibliofile": "biblio.bib",
   "cite_by": "apalike",
   "current_citInitial": 1,
   "eqLabelWithNumbers": true,
   "eqNumInitial": 1,
   "hotkeys": {
    "equation": "Ctrl-E",
    "itemize": "Ctrl-I"
   },
   "labels_anchors": false,
   "latex_user_defs": false,
   "report_style_numbering": false,
   "user_envs_cfg": false
  }
 },
 "nbformat": 4,
 "nbformat_minor": 2
}
