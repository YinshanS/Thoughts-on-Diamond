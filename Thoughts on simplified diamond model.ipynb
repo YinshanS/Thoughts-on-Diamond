{
 "cells": [
  {
   "cell_type": "markdown",
   "metadata": {},
   "source": [
    "<h1 id=\"tocheading\">Table of Contents</h1>\n",
    "<div id=\"toc\"></div>"
   ]
  },
  {
   "cell_type": "markdown",
   "metadata": {},
   "source": [
    "# <span style=\"color:blue\"> Basic Setup and Risk Spread </span>"
   ]
  },
  {
   "cell_type": "markdown",
   "metadata": {},
   "source": [
    "## Log Utility"
   ]
  },
  {
   "cell_type": "markdown",
   "metadata": {},
   "source": [
    "Assuming the Cobb-Douslas production and log utility, relax the uncertainty to a more general case.\n",
    "Let the output be \n",
    "\\begin{equation}\n",
    "Y_t=(1+X_t)F(K_t)\n",
    "\\end{equation}\n",
    "where $X_t$ is a random variable with c.d.f. $G_t(x)$."
   ]
  },
  {
   "cell_type": "markdown",
   "metadata": {},
   "source": [
    "Then \n",
    "\\begin{equation}\n",
    "C_{o,t+1}=R_{t+1}K_{t+1}=\\alpha(1+X_{t+1})F(\\beta W_t)\n",
    "\\end{equation}"
   ]
  },
  {
   "cell_type": "markdown",
   "metadata": {},
   "source": [
    "And recall FOC requires\n",
    "\\begin{equation*}\n",
    "\\frac{1-\\beta}{C_y,t}= E_t[R_{t+1}\\frac{\\beta}{C_{o,t+1}}]\n",
    "\\end{equation*}"
   ]
  },
  {
   "cell_type": "markdown",
   "metadata": {},
   "source": [
    "Therefore the risk-free interest rate $R_t^f$ and risky rate $R_{t+1}$ respectively must satisfy \n",
    "\\begin{equation}\n",
    "R_t^f=\\frac{1-\\beta}{\\beta C_y,t E[\\frac{1}{C_{0,t+1}}]}=\\frac{\\alpha F(\\beta W_t)}{\\beta W_t E[\\frac{1}{1+X_{t+1}}]}\n",
    "\\end{equation}\n",
    "\\begin{equation}\n",
    "E_t[R_{t+1}]=E_t[\\frac{C_{o,t+1}}{K_{t+1}}]=\\frac{\\alpha F(\\beta W_t)}{\\beta W_t}E_t[(1+X_{t+1})]\n",
    "\\end{equation}\n",
    "And the risk spread in this case would be \n",
    "\\begin{equation}\n",
    "\\frac{E_t(R_{t+1})}{R^f_t}=E_t[(1+X_{t+1})] E_t[\\frac{1}{1+X_{t+1}}]\n",
    "\\end{equation}"
   ]
  },
  {
   "cell_type": "markdown",
   "metadata": {},
   "source": [
    "## Cobb-Douglas Utility"
   ]
  },
  {
   "cell_type": "markdown",
   "metadata": {},
   "source": [
    "Assuming Cobb-Douslas production with same uncertainty representation and Cobb-Douglas utility($V=C_y^{1-\\beta}C_o^\\beta$), FOC requires\n",
    "\\begin{equation}\n",
    "E_t[(1-\\beta)(\\frac{C_{o,t+1}}{C_{y,t}})^\\beta]=E_t[R_{t+1}\\beta(\\frac{C_{y.t}}{C_{o,t+1}})^{1-\\beta}]\n",
    "\\label{foccob}\n",
    "\\end{equation}\n",
    "We may thus observe from the above equation that without uncertainty, we would get the same outcome as the log utility case. \n",
    "\n",
    "But with uncertainty, the risk-free interest rate $R_t^f$ and risky rate $R_{t+1}$ respectively must satisfy \n",
    "\\begin{equation}\n",
    "R_t^f=\\frac{E_t[(1-\\beta)(\\frac{C_{o,t+1}}{C_{y,t}})^\\beta]}{E_t[\\beta(\\frac{C_{y.t}}{C_{o,t+1}})^{1-\\beta}]}=\\frac{\\alpha F(\\beta W_t)}{\\beta W_t}\\frac{E_t[(1+X_{t+1})^\\beta]}{E_t[(1+X_{t+1})^{\\beta-1}]}\n",
    "\\end{equation}\n",
    "\\begin{equation}\n",
    "E[R_{t+1}]=E_t[\\frac{C_{o,t+1}}{K_{t+1}}]=\\frac{\\alpha F(\\beta W_t)}{\\beta W_t}E_t[(1+X_{t+1})]\n",
    "\\end{equation}\n",
    "And the risk spread in this case would be \n",
    "\\begin{equation}\n",
    "\\frac{E_t(R_{t+1})}{R^f_t}=\\frac{E_t[(1+X_{t+1})]E_t[(1+X_{t+1})^{\\beta-1}]}{E_t[(1+X_{t+1})^\\beta]}\n",
    "\\end{equation}\n",
    "\n",
    "\\textbf{Notice that in the above two cases, expectation of risky rates are the same. It is the monotonic transformation of utility function that distorted the risk preference of the consumer and thus changed how the risk-free interest rate depends on the distribution of $X_t$.}"
   ]
  },
  {
   "cell_type": "markdown",
   "metadata": {},
   "source": [
    "## A More General Utility Representation "
   ]
  },
  {
   "cell_type": "markdown",
   "metadata": {},
   "source": [
    "Now consider utility function\n",
    "\\begin{equation}\n",
    "V=u(C_{y,t})+\\beta u(C_{o,t+1})\n",
    "\\end{equation}  \n",
    "where $\\beta \\in (0,1)$ is discount factor and V satisfies monotonicity, concavity(implying the consumer prefers utility smoothing) and is differentiable. \n",
    "FOC would require\n",
    "\\begin{equation}\n",
    "E_t[\\frac{\\partial U}{\\partial C_{y,t}}]=E_t[R_{t+1}\\frac{\\partial U}{\\partial C_{o,t+1}}]\n",
    "\\end{equation}\n",
    "or equivalently,\n",
    "\\begin{equation}\n",
    "E_t[u'(C_{y,t})]=E_t[R_{t+1}\\beta u'(C_{o,t+1})]\n",
    "\\end{equation}\n",
    "Thus interest rates can be computed as\n",
    "\\begin{equation}\n",
    "R_t^f=\\frac{u'(C_{y,t})}{\\beta E_t[u'(C_{o,t+1})]}\n",
    "\\end{equation}\n",
    "\\begin{equation}\n",
    "E[R_{t+1}]=\\frac{u'(C_{y,t})}{\\beta}E_t[\\frac{1}{C_{o,t+1}}]\n",
    "\\end{equation}\n",
    "and the risk spread would be \n",
    "\\begin{equation}\n",
    "\\frac{E[R_{t+1}]}{R_t^f}=E_t[u'(C_{o,t+1})]E_t[\\frac{1}{u'(C_{o,t+1})}]\n",
    "\\end{equation}"
   ]
  },
  {
   "cell_type": "markdown",
   "metadata": {},
   "source": [
    "# <span style=\"color:blue\">On tau_t </span>"
   ]
  },
  {
   "cell_type": "markdown",
   "metadata": {},
   "source": [
    "## From Prof. Waldmann Apr.20 (from the word file) "
   ]
  },
  {
   "cell_type": "markdown",
   "metadata": {},
   "source": [
    "## From Prof. Waldmann Apr. 30"
   ]
  },
  {
   "cell_type": "markdown",
   "metadata": {},
   "source": [
    "OK on the availability of the safe asset doesn't matter for saving and \"envelope theorem\" the claim isn't true as I made it.\n",
    "\n",
    "There are two problems with my guess.  The first is that I (uconciously) assumed constant relative risk aversion when vaguely thinking about it.  This is needed for the alleged result. Second I used  the assumption that D is small.  The guess that it should work for increases from high to very high $D$ was incorrect.\n",
    "\n",
    "Another way to ask the question is how does a change in $Rf$ affect saving for given $R$ and $W$.  Here the change in Rf is that needed to convince people to D amount of safe assets not 0.  There is a boring mathematical result that the effect is second order in D if the utility function is CRRA.  I attach something on this which includes a correction in [].  But I think it is boring. We should just say there is a time varying tax which cancels the effect of D on W and R and then move to the logarithmic utility special case.\n",
    "\n",
    "As noted in  taut-pdf, the problem is very simple for logarithmic utility because neither R_t+1 nor Rf_t+1 have any effect on saving at time t.  The young just save beta times their income no matter what.  \n",
    "\n",
    "The iincome of the young at time t is wage plus the transfer financed with tau_t + (1-Rf_t)D.  Tau_t is set so that W_t + the transfer financed by taut_t  is not affected by D (that's the point of the exercize)\n",
    "So the effect of D on the saving of the young is to increase it by (1-Rf_t)D(beta).  So the effect of D on K_t is to reduce it by    (beta-1)D-Rf_tD(beta)\n",
    "\n",
    "now if K*_t is capital for D = 0  and Y =  F(K,1) = f(K) then  \n",
    "(1-tau_(t+1)) = f'(K*t)/(f'(K*_t - (1-beta)D - (Rf_t)D(beta)).\n",
    "\n",
    "This formula also works for CRRA utility, but only if we are increasing debt from 0 to small D.  It  does not work for CRRA utility other than logarithmic utility if the policy is to increase D from some large level to some slightly larger level.\n",
    "\n",
    "For logarithmic utility *only* something like this works if we start at D = D_0 and then give some more to the old so D becomes D_0 + deltaD.\n",
    "\n",
    "For $K**_t$ is capital for $D = D_0$ it becomes\n",
    "$(1-tau_(t+1)) = f'(K**_t)/(f'(K**_t - (1-beta)deltaD - (Rf_t)deltaD(beta))$.  \n",
    "\n",
    "I think we should just say that there is, in general, a time varying tau which cancels the effect of D on W and R, then go to logarithmic uitility.\n",
    "\n",
    "I attach some confused stuff (which I may have sent already).  The useful point (if any) is the update error warning in square brackets"
   ]
  },
  {
   "cell_type": "markdown",
   "metadata": {},
   "source": [
    "## From Prof. Waldmann May.6"
   ]
  },
  {
   "cell_type": "markdown",
   "metadata": {},
   "source": [
    "Yes there are very simple explicit solutions for those cases(*refering to log utility and utility function linear in first period and log in second*). I would certainly present the log utility case first (no need for any particular limits on the production function or the distribution of A except I think it is best to bound A away from zero).  Discussion of the more general case could be added.  Any additional math definitely appendixed.\n",
    "\n",
    "I do think the effects of a constant Tau should be discussed.  This is what Blanchard was considering in an e-mail.  The time varying tau which furthermore requires a very smart fiscal authority to calculate is needed for Pareto improvement, but a constant Tau set  for, say, steady state K, gives an increase in unconditional expected utility.  I think it is worth discussing.\n",
    "\n",
    "Now the linear when young case is also a bit interesting.  It isn't a special case of OJ's model (he has (1-beta)u()+ beta u() for the same u when young and old which *sure* doesn't fit my experience of the measured over 2 days utility effect of consumption of alcohol for example).  Also figuring out the effect of D on saving isn't as easy as it is for log utility.  But it does give a constant tau_t and a constant Rf_t and a constant benefit so long as Rf<1 and all that.   I think it is worth discussing, but will create challenges for rhetoric and, more importantly, notation.\n",
    "\n",
    "Depending on whether we want to inflict the general case on readers, this is a short note (without) or a short paper (with).  \n"
   ]
  },
  {
   "cell_type": "markdown",
   "metadata": {},
   "source": [
    "# <span style=\"color:blue\">Dynamic Inefficency</span>"
   ]
  },
  {
   "cell_type": "markdown",
   "metadata": {},
   "source": [
    "\"I think there is a fairly simple result that if $R^f_t < 1$ for all $t$, then higher debt causes a Pareto improvement so long as the effects of debt on $W_t$ and $R_t$ are cancelled by a  time varying tax on capital income which is used to finance a wage subsidy.\""
   ]
  },
  {
   "cell_type": "markdown",
   "metadata": {},
   "source": [
    "## From Prof. Waldmann Apr.25 "
   ]
  },
  {
   "cell_type": "markdown",
   "metadata": {},
   "source": [
    "1) I think there is a fairly simple result that if Rf_t < 1 for all t, then higher debt causes a Pareto improvement so long as the effects of debt on W_t and R_t are cancelled by a  time varying tax on capital income which is used to finance a wage subsidy .  I think this is a good note or comment on Blanchard.\n",
    "The additional work is to consider a constant tax.  This really works about as well, but I fear the welfare analysis has to be numerical as there aren't simple closed form results.\n",
    "\n",
    "Here I think a key thing is to explain to Blanchard that the policy which causes a Pareto improvement includes a very strange time varying tax which depends not only on capital K with debt and the tax, but also what capital would be without debt and taxes K*.  \n",
    "\n",
    "2) another very interesting question is what happens with a sovereign carry trade selling bonds to buy stock.  This is something Brad has discussed for 14 years, John Quiggin has discussed for 30 years, and I have discussed for 4 years. I think there are extremely simple results of the form Pareto improvement with probability 1-epsilon and worst case not very bad at all.  I think this might be a separate project even thought Blanchard brought up the question when having lunch with Brad.\n",
    "\n",
    "3) there is 2016 stuff on cases where W_t doesn't vary so the general equilibrium effect of debt is a safe transfer which has welfare effects which depend on the safe rate Rf.  I add to this Summers thought about shocks which affect R but not K (simplest way to model them is capital biased technology shocks) .  Here I think one way forward (which I haven't really done beyond some FREDing) is empirical.  In fact labor's share is countercyclical. An asset which paid x% of wages would be safer than equity.  The long list of possible explanations is relevant but it will be hard to tell which matters. The point is that this means that the welfare effects of debt through W and R depend on an interest rate far below the return on equities.\n",
    "\n",
    "My practical point is that we shouldn't get stuck on this issue.  We have a couple of simple brief striking points to make.  \n",
    "\n",
    "My impractical temptation is to try to figure it out while typing.  Uh oh. The rest of this e-mail will be a waste of time and will probably contain conceptual errors.  Caveat Lector\n",
    "\n",
    "a) OK the data are tricky because one has to decide how literally to take the OLG model. Are time periods really generations or is the OLG model used to model short planning horizons due to bounded rationality ?  I think the second interpretation is the one which will be fruitful, some time, years or decades from now, when macroeconomists get over the now decades long rational expectations fad.  But here we are in the present where the Diamond OLG model is semi forgotten and exotic, and an interpretation of it based on saying people are obviously boundedly rational will not be allowed.\n",
    "\n",
    "But I still think simple calculations about how yes indeed the share of labor is countercyclical would be useful as motivation.\n",
    "\n",
    "b) Summers. This is the simplest and most standard approach.  It works fine if we just say that technology shocks aren't Hicks neutral (no reason for them to be) and are instead capital biased. Summers's own thought about how the risk is variable price of claims on K not variable revenue allows too much reality to get involved.  I'm sure this is what's going on.  It brings us back to Noise Trader Risk in financial markets (1990)..  For present purposes it creates trouble, because a variable price of K has complicated effects in an OLG model. The complicated effects are that the price of capital in time t will affect (real) investment at time t.   I guess there might be a knife age exception.  So W varies because K varies even if asset price shocks (noise) doesn't affect W directly.  This becomes a tricky model to analyse. It might be interesting.\n",
    "\n",
    " Here it is important that the model does *not* have a safe asset or storage technology.  If there is a safe asset, then D crowds out that safe asset and it-s sort of obvious that welfare effects depend only on Rf-(1+g).  Actually writing this out might be worthwhile.\n",
    "\n",
    "c) yeah why can't we assume a storage technology ?  Goods are stored in the real world. There are, in fact, assets which aren't sovereign debt and which are fairly safe (AAA bonds).  They are the assets which should be crowded out by D.  A model with a safe asset other than D is trivially simpl.  This is a good thing, because it is more realistic and much easier to solve..  I think the fact that the paper basically becomes a sequel to Delong et al 1990 and even more so Delong et al 1989 (size and incidence) is another good thing.  I would dust off the old model.  \n",
    "\n",
    "d) Nick Rowe's point that wages are safe if hiring is done before the shock is revealed. This is clear and simple. I think it is worth mentioning with very clear thanks to Rowe.\n",
    "\n",
    "e) idiosyncratic risk which matters for the risky return R.  This was my original idea.  I think working on this assuming full rationality is silly.  I think some hand waving about principal agent reasons that risk can't be diversified is OK, but the main point is that own risk is priced  CAPM fails Reality. Data.  The useful point is that whatever risk causes the return on stock to be very high is not relevant to policy makers.  The case for debt and or socialism was proven by Mehra and Prescott (additional bonus \"public ownership of the means of production is efficient as proven by Prescott\" would be really fun to write).  A problem is that this is the point Quiggin has been making for decades.  \n",
    "\n",
    "Also I stress that thinking about why E(R) is so high might lead us away from a simple publishable paper into the endless rational expectations debate.\n",
    "\n",
    "I think we should try to avoid that swamp (but am having trouble resisting as this tangent of this supposed to be practical e-mail shows)"
   ]
  },
  {
   "cell_type": "markdown",
   "metadata": {},
   "source": [
    "## From Prof. Waldmann, May.6"
   ]
  },
  {
   "cell_type": "markdown",
   "metadata": {},
   "source": [
    "I can get an explicit solution for log utility and inelastic labor supply. No need for Cobb Douglas and certainly no need for 2 state uncertainty.\n",
    "\n",
    "Have $Y = F(K,L)$. Set $L$ fixed, normalize it to one so $Y = F(K,1)$. Define $f$ so $Y = f(K)$. $F$ is quasi-concave and CRS.  No more is needed.\n",
    "\n",
    "The log utility is useful, because it makes it easy to see how debt and taxes affect $K$. \n",
    "\n",
    "There are two effects, one is **crowding out** and the other is **the effect of the lump sum transfers $(1-R_f)D$ on saving**.  \n",
    "\n",
    "<span style=\"color:red\"> The transfer causes saving $= K_t+D$ to increase by $\\beta(1-R^f_t)D$ if it is given to the young and to decrease by $(1-\\beta) ((1-R^f_{t+1})/R^f_{t+1})D$ if it is given to the old, and something in between if it is given part to the young and part to the old.  It is easiest to handle if it is given to the young, because Rf_t is known when the government sets $/tau_{t+1}$ and the young choose $K_t$.</span>\n",
    "\n",
    "There is another term.  We know $\\tau$ will be chosen so R is what it would be with no debt.  However, Rf is not what it would be -- it has to be higher given R in order to convince people to hold D not zero safe asset.  This is messy *except* in the case of logarithmic utility. For logarithmic utility, this and everything related to interest rates and returns has no effect on saving.  It's also tractable if utility is linear in consumption when young, because there is just one problem which doesn't depend on W_t or Rf_t .\n",
    "\n",
    "So the effect of debt and taxes on capital formation is to reduce it by   D - (beta)(1-Rf_t)D = (1-beta + (beta)Rf)D\n",
    "\n",
    "Then it is easy to find tau_t .  let K_t be capital for debt = D and K*_t be capital for debt = 0 \n",
    "\n",
    "K*_t = (beta)W_t\n",
    "K_t = (beta)W_t - (1-beta + (beta)Rf_t)D\n",
    "then (1-taut_t)f'(K_t) = f'(K*_t)\n",
    "\n",
    "tau_t = 1- f'((beta)W_t)/f'( (beta)W_t - (1-beta + (beta)Rf_t)D)\n",
    "\n",
    "For the young at time t, there are two effects on welfare.  They get (1-Rf_t)D as a gift.  Also, while W_t is the same and the distribution of R_{t+1} is the same, Rf_t is increased by the debt and taxes policy.  So long as Rf_t<1, they gain in two different ways and don't lose in any way.\n",
    "\n",
    "QED"
   ]
  },
  {
   "cell_type": "markdown",
   "metadata": {},
   "source": [
    "# <span style=\"color:blue\">On Rolling over Debt</span>"
   ]
  },
  {
   "cell_type": "markdown",
   "metadata": {},
   "source": [
    "## From Prof. Waldmann May.7"
   ]
  },
  {
   "cell_type": "markdown",
   "metadata": {},
   "source": [
    "I had a thought which might just complicate things.  I think there is a stronger result about how if Rf is low, then there is a Pareto improving policy which includes giving bonds to the young of some generation (say generation 1)\n",
    "First consider the question of whether the government can issue debt and roll it over forever without ever taxing (or defaulting)\n",
    "\n",
    "This is clearly possible if Rf_1 < 1 for all t.  But that is sufficient but not necessary.\n",
    "Rf is stochastic because it depends on K, which is stochastic.  Given our assumptions, if D=0, K has a stationary distribution and so does Rf.\n",
    "\n",
    "If the geometric mean of Rf <0 then rolled over D_t will almost surely go to zero.Also for any epsilon >0 there is a huge constant Z such that the chance that there is any t such that D_t/D_1 >Z is less than epsilon.   If initial D is low enough, it is almost surely possible to roll over debt until it vanishes.\n",
    "\n",
    "OK now use Tau_t and wage subsidies to cancel the effect of D_t on R and W.  As usual this is simple for logarithmic utility.\n",
    "Then savings = K_t +D_t = (beta) W_t so the only effect of D_t on K_t is crowding out.\n",
    "If K with debt is K_t then the formula for the right tau_t is \n",
    "\n",
    "(1-tau_t)f'(K_t)/f'(K_t+D_t)\n",
    "so very simple for any production function.\n",
    "\n",
    "Now what about welfare ? Well the young of each generation can snub the government and just save using the risky asset.  The policy would have no effect on their welfare as they have the same W and face the same R. Revealed preference implies that they prefer to buy safe debt. So the give and roll over forever while cancelling the effects on R and W using tau_t policy causes a Pareto improvement.\n",
    "\n",
    "Basically the tau_t trick means that whenever rolling over debt forever is feasible, it can be used to achieve a Pareto improvement."
   ]
  },
  {
   "cell_type": "markdown",
   "metadata": {},
   "source": [
    "# <span style=\"color:blue\">Others</span>"
   ]
  },
  {
   "cell_type": "markdown",
   "metadata": {},
   "source": [
    "## From Prof. Waldmann May.26"
   ]
  },
  {
   "cell_type": "markdown",
   "metadata": {},
   "source": [
    "I don't want to waste your time.  I don't want the OJ project to stagnate.  I don't write too good.  I outline\n",
    "\n",
    "1. little point that debt causes an increase in welfare if Rf<1+g and time varying taxes and transfers are used to cancel the general equilibrium effects on R and W.\n",
    "For a Pareto improvement it is necessary that Rf_t < 1+g for every generation.  From now on, like Blanchard, I will use g = 0.  So we need Rf_t<1 for every t.\n",
    "\n",
    "2. sloppy talk and numerical calculations showing that the time varying tax is needed only for those obsessed with Pareto.  A constant tau_k causes a similar increase in unconditional expected welfare (easy to find examples where expected welfare is higher with a constant tax rate than a variable one for the same debt D)\n",
    "\n",
    "3. Somewhat stronger result in which D is not constant.  Rather roll it over with total transfers just equal to the tax on capital income.  If the geometric mean of Rf is less than 1, then D_t will almost surely go to zero.  All generations are helped by revealed preference.  Another way of seeing this is the policy keeps R and W the same but increases Rf (so net demand for safe debt is D not 0).  This is good for the economic agents.  The only problem is that D *might* become very large for a while. I say, more complicated policy where, if D is greater than some threshold, use taxes to reduce it. This means there is  a chance that the policy isn't a Pareto improvement.  For any epsilon >0, there is a policy of this type which causes a Pareto improvement with probability greater than 1-epsilon.\n",
    "\n",
    "4. Another stronger result which doesn't depend on Rf alone.  So long as the geometric mean of R_t is greater than Rf_t for every t, a sovereign carry trade in which the state sells bonds and buys risky assets is good.  Conveniently the distribution of R_t and the value of Rf_t both depend in the same way on K_(t-1) so it is easy for the inequality to be E(ln(R_t))>ln(Rf_t) for every t.  I think if u is a CES utility function, the condidition is that the elasticity of substitution < 2.  in other words if u is a constant relative risk aversion utility function, the inequality holds so long as the coefficient of relative risk aversion is greater than 0.5.\n",
    "\n",
    "In this case, again, the idea is roll it over using taxes and transfers on capital and labor income to keep R and W what they would have been with laissez faire. Again this means all benefit because Rf is greater (also see by revealed preference -- agents choose to buy the debt they aren't forced to buy it).\n",
    "\n",
    "Again bad luck might mean that state must tax to avoid bankruptcy.  Again for any epsilon, there is a policy of this form such that the chance it has to tax is less than epsilon.\n",
    "\n",
    "I think a good twist is to pay back the debt as soon as the state's net wealth is positive. then use the sovereign wealth fund to pay subsidies and get K to the Ramsey Cass Koopmans level not the Diamond steady state level.  This implies welfare gains which can be very large even if initial D is very small.  \n",
    "\n",
    "There is no doubt in my mind that this should be done in the real world.\n",
    "\n",
    "Now we could also introduce noise traders and try to rope Summers in.  I have noticed that a solution for Noise Trader risk is a sovereign wealth fund (or carry trade).\n"
   ]
  },
  {
   "cell_type": "markdown",
   "metadata": {},
   "source": [
    "# <span style=\"color:blue\">Notes on Matlab file</span>"
   ]
  },
  {
   "cell_type": "markdown",
   "metadata": {},
   "source": [
    "## From Prof. Waldmann Jun.3"
   ]
  },
  {
   "cell_type": "markdown",
   "metadata": {},
   "source": [
    "To pass the time, I played with matlab a little. The idea is that there is a slightly stronger result if E(ln(Rf))<0 and the policy is to give bonds to generation 1 then roll them over until the debt vanishes.  This means no subsidies of (1-Rf)D which can be negative (that is taxes) for low K.\n",
    "\n",
    "I checked and none of 1000000 generations suffer in expected welfare.  That is expected welfare conditional on wage and amount saved but not on the shock when old, so for generation young at t expected conditional on variables dated t or before.\n",
    "\n",
    "I also check if the government goes bankrupt.  It can a long string of low K and high Rf can make debt grow until it is greater than W so no way the young buy it.\n",
    "\n",
    "The real policy is to tax if debt gets over say 1% of W.  The policy sure needs that A (technology) is bounded away from 0."
   ]
  },
  {
   "cell_type": "markdown",
   "metadata": {},
   "source": [
    "## From Prof. Waldmann Jun.4"
   ]
  },
  {
   "cell_type": "markdown",
   "metadata": {},
   "source": [
    "Just messing around with OJ5.m and OJ6.m.\n",
    "I think it is interesting to __try to find cases where debt is good even though unconditional average R is high__.  \n",
    "\n",
    "for OJ6, there is checking that rolling over debt forever is feasible (that is K never becomes negative).  One thing that alarms me is that I need huge variance of log(A) to get E(log(Rf)) far below E(log(R)).\n",
    "\n",
    "In any case, tables with average welfare gain and frequency of failure (low A repeatedly means debt to gdp gets unsustainable and government goes bankrupt).  OJ6 counts such events.  The analytic claim is that for any epsilon >0, there is an initial D so low that bankruptcy occurs with probability less than epsilon. \n",
    "\n",
    "Tables with average welfare gain and failure rate as a function of parameters would be useful.\n",
    "\n",
    "I think a more ambitious and important thing to do is to try to __find a way to get E(R) and Rf quite different__.  I'm not sure log normal is the way to go..  __A simple functional form is needed to calculate Rf.__  I think we want a fat upper tail to make E(R) high. Log normal with a huge variance does this, but it sure looks silly. "
   ]
  },
  {
   "cell_type": "markdown",
   "metadata": {},
   "source": [
    "## From Prof. Waldmann Jun.7"
   ]
  },
  {
   "cell_type": "markdown",
   "metadata": {},
   "source": [
    "Sending possibly debugged matlab *.m files.  I attach oj6.m.  In this model, the state gives D to the first generation old, then rolls it over forever.  \n",
    "oj6.m is simple and might even be correct. On the other hand there are no comments to speak of.  \n",
    "Dt(t) is the time varying public debt.\n",
    "\n",
    "There is a time varying tax on capital income used to subsidize wages.  It is designed to cancel the effects of Dt on W and R.  \n",
    "There is still a welfare effect from the availability of a safe asset. This causes a pareto improvement.  Another way to see this is that the safe rate is driven up so demand for safe assets clears at supply Dt(t) not zero. This is good for the citizens.\n",
    "\n",
    "The tax is just set to make the after tax risky return the same as it was (it doesn't matter if safe interest is taxed as the price of bonds adjusts).\n",
    "\n",
    "This makes W the same too.\n",
    "\n",
    "So only Rf is changed and it increases (or (1-taut)Rf is greater than laissez faire Rf if safe interest is taxed -- since all in a generation are identical, the tax has no effect (Barbara don't tell Fausto Bertinotti that I typed that)).\n",
    "\n",
    "The only problem is that state might not be able to roll over D. An extreme stream of bad luck causes low K and high Rf so high Dt. It can be that Dt gets so high that debt can't be rolled over.\n",
    "\n",
    "If the unconditional geomentric mean of RF is less than 1, then this need not be likeley.  For very high T the expected value of log(Dt) goes to minus infinity.\n",
    "\n",
    "For any posittive epsilon, there is an initial debt small enough that the risk of default is less than epsilon.\n",
    "\n",
    "Here (again as in OJ8) I think it is best to assume the safe asset is really safe and that the state taxes to repay it's debt if the debt to gdp ratio gets anywhere near the danger of default zone.\n",
    "\n",
    "Anyway attached. Uncommented. Possibly bug free."
   ]
  },
  {
   "cell_type": "code",
   "execution_count": 3,
   "metadata": {},
   "outputs": [
    {
     "data": {
      "application/javascript": [
       "$.getScript('https://kmahelona.github.io/ipython_notebook_goodies/ipython_notebook_toc.js')\n"
      ],
      "text/plain": [
       "<IPython.core.display.Javascript object>"
      ]
     },
     "metadata": {},
     "output_type": "display_data"
    }
   ],
   "source": [
    "%%javascript\n",
    "$.getScript('https://kmahelona.github.io/ipython_notebook_goodies/ipython_notebook_toc.js')"
   ]
  },
  {
   "cell_type": "code",
   "execution_count": null,
   "metadata": {},
   "outputs": [],
   "source": []
  }
 ],
 "metadata": {
  "kernelspec": {
   "display_name": "Python 3",
   "language": "python",
   "name": "python3"
  },
  "language_info": {
   "codemirror_mode": {
    "name": "ipython",
    "version": 3
   },
   "file_extension": ".py",
   "mimetype": "text/x-python",
   "name": "python",
   "nbconvert_exporter": "python",
   "pygments_lexer": "ipython3",
   "version": "3.6.5"
  },
  "latex_envs": {
   "LaTeX_envs_menu_present": false,
   "autoclose": false,
   "autocomplete": false,
   "bibliofile": "biblio.bib",
   "cite_by": "apalike",
   "current_citInitial": 1,
   "eqLabelWithNumbers": true,
   "eqNumInitial": 1,
   "hotkeys": {
    "equation": "Ctrl-E",
    "itemize": "Ctrl-I"
   },
   "labels_anchors": false,
   "latex_user_defs": false,
   "report_style_numbering": false,
   "user_envs_cfg": false
  }
 },
 "nbformat": 4,
 "nbformat_minor": 2
}
