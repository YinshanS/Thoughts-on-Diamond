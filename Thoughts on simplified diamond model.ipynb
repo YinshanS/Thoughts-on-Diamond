{
 "cells": [
  {
   "cell_type": "markdown",
   "metadata": {},
   "source": [
    "[toc]"
   ]
  },
  {
   "cell_type": "markdown",
   "metadata": {},
   "source": [
    "<h1 id=\"tocheading\">Table of Contents</h1>\n",
    "<div id=\"toc\"></div>"
   ]
  },
  {
   "cell_type": "markdown",
   "metadata": {},
   "source": [
    "# <span style=\"color:blue\"> Risk Spread </span>"
   ]
  },
  {
   "cell_type": "markdown",
   "metadata": {},
   "source": [
    "## Log Utility"
   ]
  },
  {
   "cell_type": "markdown",
   "metadata": {},
   "source": [
    "Assuming the Cobb-Douslas production and log utility, relax the uncertainty to a more general case.\n",
    "Let the output be \n",
    "\\begin{equation}\n",
    "Y_t=(1+X_t)F(K_t)\n",
    "\\end{equation}\n",
    "where $X_t$ is a random variable with c.d.f. $G_t(x)$."
   ]
  },
  {
   "cell_type": "markdown",
   "metadata": {},
   "source": [
    "Then \n",
    "\\begin{equation}\n",
    "C_{o,t+1}=R_{t+1}K_{t+1}=\\alpha(1+X_{t+1})F(\\beta W_t)\n",
    "\\end{equation}"
   ]
  },
  {
   "cell_type": "markdown",
   "metadata": {},
   "source": [
    "And recall FOC requires\n",
    "\\begin{equation*}\n",
    "\\frac{1-\\beta}{C_y,t}= E_t[R_{t+1}\\frac{\\beta}{C_{o,t+1}}]\n",
    "\\end{equation*}"
   ]
  },
  {
   "cell_type": "markdown",
   "metadata": {},
   "source": [
    "Therefore the risk-free interest rate $R_t^f$ and risky rate $R_{t+1}$ respectively must satisfy \n",
    "\\begin{equation}\n",
    "R_t^f=\\frac{1-\\beta}{\\beta C_y,t E[\\frac{1}{C_{0,t+1}}]}=\\frac{\\alpha F(\\beta W_t)}{\\beta W_t E[\\frac{1}{1+X_{t+1}}]}\n",
    "\\end{equation}\n",
    "\\begin{equation}\n",
    "E_t[R_{t+1}]=E_t[\\frac{C_{o,t+1}}{K_{t+1}}]=\\frac{\\alpha F(\\beta W_t)}{\\beta W_t}E_t[(1+X_{t+1})]\n",
    "\\end{equation}\n",
    "And the risk spread in this case would be \n",
    "\\begin{equation}\n",
    "\\frac{E_t(R_{t+1})}{R^f_t}=E_t[(1+X_{t+1})] E_t[\\frac{1}{1+X_{t+1}}]\n",
    "\\end{equation}"
   ]
  },
  {
   "cell_type": "markdown",
   "metadata": {},
   "source": [
    "## Cobb-Douglas Utility"
   ]
  },
  {
   "cell_type": "markdown",
   "metadata": {},
   "source": [
    "Assuming Cobb-Douslas production with same uncertainty representation and Cobb-Douglas utility($V=C_y^{1-\\beta}C_o^\\beta$), FOC requires\n",
    "\\begin{equation}\n",
    "E_t[(1-\\beta)(\\frac{C_{o,t+1}}{C_{y,t}})^\\beta]=E_t[R_{t+1}\\beta(\\frac{C_{y.t}}{C_{o,t+1}})^{1-\\beta}]\n",
    "\\label{foccob}\n",
    "\\end{equation}\n",
    "We may thus observe from the above equation that without uncertainty, we would get the same outcome as the log utility case. \n",
    "\n",
    "But with uncertainty, the risk-free interest rate $R_t^f$ and risky rate $R_{t+1}$ respectively must satisfy \n",
    "\\begin{equation}\n",
    "R_t^f=\\frac{E_t[(1-\\beta)(\\frac{C_{o,t+1}}{C_{y,t}})^\\beta]}{E_t[\\beta(\\frac{C_{y.t}}{C_{o,t+1}})^{1-\\beta}]}=\\frac{\\alpha F(\\beta W_t)}{\\beta W_t}\\frac{E_t[(1+X_{t+1})^\\beta]}{E_t[(1+X_{t+1})^{\\beta-1}]}\n",
    "\\end{equation}\n",
    "\\begin{equation}\n",
    "E[R_{t+1}]=E_t[\\frac{C_{o,t+1}}{K_{t+1}}]=\\frac{\\alpha F(\\beta W_t)}{\\beta W_t}E_t[(1+X_{t+1})]\n",
    "\\end{equation}\n",
    "And the risk spread in this case would be \n",
    "\\begin{equation}\n",
    "\\frac{E_t(R_{t+1})}{R^f_t}=\\frac{E_t[(1+X_{t+1})]E_t[(1+X_{t+1})^{\\beta-1}]}{E_t[(1+X_{t+1})^\\beta]}\n",
    "\\end{equation}\n",
    "\n",
    "\\textbf{Notice that in the above two cases, expectation of risky rates are the same. It is the monotonic transformation of utility function that distorted the risk preference of the consumer and thus changed how the risk-free interest rate depends on the distribution of $X_t$.}"
   ]
  },
  {
   "cell_type": "markdown",
   "metadata": {},
   "source": [
    "## A More General Utility Representation "
   ]
  },
  {
   "cell_type": "markdown",
   "metadata": {},
   "source": [
    "Now consider utility function\n",
    "\\begin{equation}\n",
    "V=u(C_{y,t})+\\beta u(C_{o,t+1})\n",
    "\\end{equation}  \n",
    "where $\\beta \\in (0,1)$ is discount factor and V satisfies monotonicity, concavity(implying the consumer prefers utility smoothing) and is differentiable. \n",
    "FOC would require\n",
    "\\begin{equation}\n",
    "E_t[\\frac{\\partial U}{\\partial C_{y,t}}]=E_t[R_{t+1}\\frac{\\partial U}{\\partial C_{o,t+1}}]\n",
    "\\end{equation}\n",
    "or equivalently,\n",
    "\\begin{equation}\n",
    "E_t[u'(C_{y,t})]=E_t[R_{t+1}\\beta u'(C_{o,t+1})]\n",
    "\\end{equation}\n",
    "Thus interest rates can be computed as\n",
    "\\begin{equation}\n",
    "R_t^f=\\frac{u'(C_{y,t})}{\\beta E_t[u'(C_{o,t+1})]}\n",
    "\\end{equation}\n",
    "\\begin{equation}\n",
    "E[R_{t+1}]=\\frac{u'(C_{y,t})}{\\beta}E_t[\\frac{1}{C_{o,t+1}}]\n",
    "\\end{equation}\n",
    "and the risk spread would be \n",
    "\\begin{equation}\n",
    "\\frac{E[R_{t+1}]}{R_t^f}=E_t[u'(C_{o,t+1})]E_t[\\frac{1}{u'(C_{o,t+1})}]\n",
    "\\end{equation}"
   ]
  },
  {
   "cell_type": "markdown",
   "metadata": {},
   "source": [
    "# <span style=\"color:blue\">Dynamic Inefficency</span>"
   ]
  },
  {
   "cell_type": "markdown",
   "metadata": {},
   "source": [
    "\"I think there is a fairly simple result that if $R^f_t < 1$ for all $t$, then higher debt causes a Pareto improvement so long as the effects of debt on $W_t$ and $R_t$ are cancelled by a  time varying tax on capital income which is used to finance a wage subsidy.\""
   ]
  },
  {
   "cell_type": "markdown",
   "metadata": {},
   "source": [
    "## From Prof. Waldmann, May.6"
   ]
  },
  {
   "cell_type": "markdown",
   "metadata": {},
   "source": [
    "I can get an explicit solution for log utility and inelastic labor supply. No need for Cobb Douglas and certainly no need for 2 state uncertainty.\n",
    "\n",
    "Have $Y = F(K,L)$. Set $L$ fixed, normalize it to one so $Y = F(K,1)$. Define $f$ so $Y = f(K)$. $F$ is quasi-concave and CRS.  No more is needed.\n",
    "\n",
    "The log utility is useful, because it makes it easy to see how debt and taxes affect $K$. \n",
    "\n",
    "There are two effects, one is **crowding out** and the other is **the effect of the lump sum transfers $(1-R_f)D$ on saving**.  \n",
    "\n",
    "The transfer causes saving = K_t+D to increase by (beta)(1-Rf_t)D if it is given to the young and to decrease by (1-beta) ((1-Rf_{t+1})/Rf_{t+1})D if it is given to the old, and something in between if it is given part to the young and part to the old.  It is easiest to handle if it is given to the young, because Rf_t is known when the government sets Tau_{t+1} and the young choose K_t.\n",
    "\n",
    "There is another term.  We know $\\tau$ will be chosen so R is what it would be with no debt.  However, Rf is not what it would be -- it has to be higher given R in order to convince people to hold D not zero safe asset.  This is messy *except* in the case of logarithmic utility. For logarithmic utility, this and everything related to interest rates and returns has no effect on saving.  It's also tractable if utility is linear in consumption when young, because there is just one problem which doesn't depend on W_t or Rf_t .\n",
    "\n",
    "So the effect of debt and taxes on capital formation is to reduce it by   D - (beta)(1-Rf_t)D = (1-beta + (beta)Rf)D\n",
    "\n",
    "Then it is easy to find tau_t .  let K_t be capital for debt = D and K*_t be capital for debt = 0 \n",
    "\n",
    "K*_t = (beta)W_t\n",
    "K_t = (beta)W_t - (1-beta + (beta)Rf_t)D\n",
    "then (1-taut_t)f'(K_t) = f'(K*_t)\n",
    "\n",
    "tau_t = 1- f'((beta)W_t)/f'( (beta)W_t - (1-beta + (beta)Rf_t)D)\n",
    "\n",
    "For the young at time t, there are two effects on welfare.  They get (1-Rf_t)D as a gift.  Also, while W_t is the same and the distribution of R_{t+1} is the same, Rf_t is increased by the debt and taxes policy.  So long as Rf_t<1, they gain in two different ways and don't lose in any way.\n",
    "\n",
    "QED"
   ]
  },
  {
   "cell_type": "markdown",
   "metadata": {},
   "source": [
    "# Notes on Matlab file"
   ]
  },
  {
   "cell_type": "markdown",
   "metadata": {},
   "source": [
    "## From Prof. Waldmann(Jun.3)"
   ]
  },
  {
   "cell_type": "markdown",
   "metadata": {},
   "source": [
    "To pass the time, I played with matlab a little. The idea is that there is a slightly stronger result if E(ln(Rf))<0 and the policy is to give bonds to generation 1 then roll them over until the debt vanishes.  This means no subsidies of (1-Rf)D which can be negative (that is taxes) for low K.\n",
    "\n",
    "I checked and none of 1000000 generations suffer in expected welfare.  That is expected welfare conditional on wage and amount saved but not on the shock when old, so for generation young at t expected conditional on variables dated t or before.\n",
    "\n",
    "I also check if the government goes bankrupt.  It can a long string of low K and high Rf can make debt grow until it is greater than W so no way the young buy it.\n",
    "\n",
    "The real policy is to tax if debt gets over say 1% of W.  The policy sure needs that A (technology) is bounded away from 0.\n",
    "\n",
    "ciao\n",
    "Robert\n"
   ]
  },
  {
   "cell_type": "code",
   "execution_count": 9,
   "metadata": {},
   "outputs": [
    {
     "data": {
      "application/javascript": [
       "$.getScript('https://kmahelona.github.io/ipython_notebook_goodies/ipython_notebook_toc.js')\n"
      ],
      "text/plain": [
       "<IPython.core.display.Javascript object>"
      ]
     },
     "metadata": {},
     "output_type": "display_data"
    }
   ],
   "source": [
    "%%javascript\n",
    "$.getScript('https://kmahelona.github.io/ipython_notebook_goodies/ipython_notebook_toc.js')"
   ]
  }
 ],
 "metadata": {
  "kernelspec": {
   "display_name": "Python 3",
   "language": "python",
   "name": "python3"
  },
  "language_info": {
   "codemirror_mode": {
    "name": "ipython",
    "version": 3
   },
   "file_extension": ".py",
   "mimetype": "text/x-python",
   "name": "python",
   "nbconvert_exporter": "python",
   "pygments_lexer": "ipython3",
   "version": "3.6.5"
  },
  "latex_envs": {
   "LaTeX_envs_menu_present": true,
   "autoclose": false,
   "autocomplete": false,
   "bibliofile": "biblio.bib",
   "cite_by": "apalike",
   "current_citInitial": 1,
   "eqLabelWithNumbers": true,
   "eqNumInitial": 1,
   "hotkeys": {
    "equation": "Ctrl-E",
    "itemize": "Ctrl-I"
   },
   "labels_anchors": false,
   "latex_user_defs": false,
   "report_style_numbering": false,
   "user_envs_cfg": false
  }
 },
 "nbformat": 4,
 "nbformat_minor": 2
}
