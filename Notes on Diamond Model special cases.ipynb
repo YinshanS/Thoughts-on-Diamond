{
 "cells": [
  {
   "cell_type": "markdown",
   "metadata": {},
   "source": [
    "<h1 id=\"tocheading\">Table of Contents</h1>\n",
    "<div id=\"toc\"></div>"
   ]
  },
  {
   "cell_type": "markdown",
   "metadata": {},
   "source": [
    "# A simple special case: log utility and 2-state uncertainty"
   ]
  },
  {
   "cell_type": "markdown",
   "metadata": {},
   "source": [
    "## Assumptions"
   ]
  },
  {
   "cell_type": "markdown",
   "metadata": {},
   "source": [
    "Continuing from the log utility, constant population and 2-state uncertainty assumption in [Prof. DeLong's notebook](https://nbviewer.jupyter.org/github/braddelong/WS2019/blob/master/Thinking_About_Blanchard%27s_Presidential_Address....ipynb?flushcache=true#-Thinking-About-Blanchard's-Presidential-Address...), copy some equations here for convenience. \n",
    "\n",
    "$$V = (1-\\beta)\\ln(C_y) + \\beta{\\ln(C_o)}$$\n",
    "\n",
    "$$Y_{t} = (1 + \\epsilon_{t})F(K_{t}) = (1 + \\epsilon_{t})(K_{t})^\\alpha$$\n",
    "\n",
    "where $\\epsilon_{t}$ can be $-\\sigma$ or $\\sigma$ with equal probability 0.5. Capital income of the old at time t would be \n",
    "$$ \\pi_t = \\alpha{Y_t} $$"
   ]
  },
  {
   "cell_type": "markdown",
   "metadata": {},
   "source": [
    "## Zero-debt case"
   ]
  },
  {
   "cell_type": "markdown",
   "metadata": {},
   "source": [
    "Denote the variables in the zero-debt case with *, then\n",
    "\n",
    "$$ W^*_t = (1- \\alpha){Y_t^*} $$\n",
    "\n",
    "$$ C^*_{y,t} = (1-\\beta)W_t^* = (1-\\beta)(1-\\alpha)(1 + \\epsilon_{t})F(K^*_{t}) $$\n",
    "\n",
    "$$ K^*_{t+1} = \\beta(1-\\alpha)(1 + \\epsilon_{t})F(K^*_{t}) $$\n",
    "\n",
    "$$ {R^f}_t^* =\\frac{{\\alpha}F({\\beta}W_t^*)}{{\\beta}W_t^*}\\left[ 1 - \\sigma^2 \\right] = \\frac{\\alpha[1-\\sigma^2]}{({\\beta}W_t^*)^{1-\\alpha}}  \\text{This holds only when the debt amount is very close to 0.} $$\n",
    "In general, we would have\n",
    "$$$$\n",
    "\n",
    "$$R_t^*=\\frac{\\pi_t^*}{K_t^*}=\\frac{\\alpha(1+\\epsilon_t)}{(K_t^*)^{1-\\alpha}}$$\n",
    "\n",
    "$$ \\frac{(1-\\beta)}{C_{y,t}^*} = E_t \\left[ {R_{t+1}^*}\\frac{\\beta}{C^*_{o,t+1}} \\right] $$\n",
    "\n",
    "$$ \\frac{E_t(R_{t+1}^*)}{{R^f}_t^*} = \\frac{1}{1 - \\sigma^2} $$\n",
    "(derivation can be found [here](https://nbviewer.jupyter.org/github/braddelong/WS2019/blob/master/Thinking_About_Blanchard%27s_Presidential_Address....ipynb?flushcache=true#-Thinking-About-Blanchard's-Presidential-Address...).)\n",
    "\n",
    "We can further show by iteration that \n",
    "$$K^*_t=\\beta(1-\\alpha)Y_{t-1}=(1+\\epsilon_{t-1})\\beta(1-\\alpha)K_{t-1}^\\alpha=(K_1)^{\\alpha^{t-1}}\\prod^{t-1}_1[(1+\\epsilon_i)\\beta(1-\\alpha)]^{\\alpha^{t-1-i}}$$\n",
    "And thus we can get an explicit formula for utility of an agent living in time t. See derivation [here](https://github.com/YinshanS/Thoughts-on-Diamond/blob/master/scratch%20simplest%20case%20utility%20wo%20debt.pdf).\n",
    "\n",
    "(The general formula doesn't seem to be very helpful up to now. I included it here for future reference.)"
   ]
  },
  {
   "cell_type": "markdown",
   "metadata": {},
   "source": [
    "## With a small amount of debt D"
   ]
  },
  {
   "cell_type": "markdown",
   "metadata": {},
   "source": [
    "Assume that \n",
    "1. in period 1, the government \n",
    "    * issues a small amount of debt $D$ to the young with risk-free interest rate $R^f_1=(\\frac{\\alpha (1-\\sigma^2)}{\\beta (1-\\alpha)(1+\\epsilon_1)K_1^\\alpha})^{1-\\alpha}$ \n",
    "    * distributes $D$ cash to the old;\n",
    "2. in each of the subsequent periods t with t>1,  the government \n",
    "    * issues $D$ to the young with risk-free interest rate $R^f_t$\n",
    "    * repays $R^f_{t-1}D$ cash to the old\n",
    "    * distributes $(1-R^f_{t-1})D$ cash to the young"
   ]
  },
  {
   "cell_type": "markdown",
   "metadata": {},
   "source": [
    "Then in period 1, given an initial amount of capital $K_1$ and a realization of uncertainty $\\epsilon_1$, we have\n",
    "$$Y_1=(1+\\epsilon_1)K_1^\\alpha$$\n",
    "$$W_1=(1-\\alpha)Y_1=(1-\\alpha)(1+\\epsilon_1)K_1^\\alpha$$\n",
    "In period 1, the distribution of risky rate $R_2$ satisfies\n",
    "\n",
    "$$\n",
    "R_2=\\frac{\\pi_2}{K_2}=\n",
    "\\begin{cases}\n",
    "\\frac{\\alpha(1-\\sigma)}{(W_1-D-C_{y,1})^{1-\\alpha}},\\\\\n",
    "\\frac{\\alpha(1+\\sigma)}{(W_1-D-C_{y,1})^{1-\\alpha}}\n",
    "\\end{cases}\n",
    "$$\n",
    "with equal probability a half.\n",
    "\n",
    "The young solves the maximization problem \n",
    "$$\\max_{C_{y,1}} E[V_1]=(1-\\beta)ln(C_{y,1})+\\beta E[ln((W_1-D-C_{y,1})R_2+DR_1^f)]$$\n",
    "where\n",
    "$${R^f}_t =  \\frac{{\\alpha}F({\\beta}W_t)}{{\\beta}W_t}\\left[ 1 - \\sigma^2 \\right] = \\frac{\\alpha[1-\\sigma^2]}{({\\beta}W_t)^{1-\\alpha}} \n",
    "$$\n",
    "\n",
    "and $$E[ln((W_1-D-C_{y,1})R_2+DR_1^f)]=\\frac{1}{2}ln[\\alpha(1-\\sigma)(W_1-D-C_{y,1})^\\alpha+DR_1^f]+\\frac{1}{2}ln[\\alpha(1-\\sigma)(W_1-D-C_{y,1})^\\alpha+DR_1^f]$$\n"
   ]
  },
  {
   "cell_type": "markdown",
   "metadata": {},
   "source": [
    "This would result in $C_{y,1}$ and $R_1^f$ satisfying\n",
    "\n",
    "$$0=\\frac{\\partial E[V_1]}{\\partial C_{y,1}}=\\frac{1-\\beta}{C_{y,1}}-\\frac{\\beta\\alpha^2(W_1-D-C_{y,1})^{\\alpha-1}}{2}(\\frac{1+\\sigma}{A}+\\frac{1-\\sigma}{B}) \\ \\ \\text{(Condition 1.1)}$$\n",
    "$$0=\\frac{\\partial E[V_1]}{\\partial D}=\\frac{R_1^f-\\alpha^2(1+\\sigma)(W_1-D-C_{y,1})^{\\alpha-1}}{A}+\\frac{R_1^f-\\alpha^2(1-\\sigma)(W_1-D-C_{y,1})^{\\alpha-1}}{B} \\ \\ \\text{(Condition 1.2)}$$\n",
    "where \n",
    "$$A=\\alpha(1+\\sigma)(W_1-D-C_{y,1})^{\\alpha}+DR_1^f$$\n",
    "$$B=\\alpha(1-\\sigma)(W_1-D-C_{y,1})^{\\alpha}+DR_1^f$$\n",
    "since the agent optimizes over $C_{y,1}$ and the amount of debt purchased given the risk-free rate."
   ]
  },
  {
   "cell_type": "code",
   "execution_count": null,
   "metadata": {},
   "outputs": [],
   "source": []
  },
  {
   "cell_type": "markdown",
   "metadata": {},
   "source": [
    "## The Policy: Debt + Tax\n",
    "<a id='2.4'></a>"
   ]
  },
  {
   "cell_type": "markdown",
   "metadata": {},
   "source": [
    "The aim of the policy is to preserve the welfare-increasing direct transfer effect of the debt while trying to offset its general equilibrium effect on decreasing capital stock with the tax and subsidy.\n",
    "\n",
    "Prof. Waldmann proposed the following policy (if I didn't misunderstand him).\n",
    "\n",
    "1. In period 1: \n",
    "    1. issue a small amount of debt $D$ to the young with risk-free interest rate $R^f_1$\n",
    "    2. distribute $D$ cash to the old, resulting in a welfare improvement for the old in period 1 by increasing $C_{o,1}$ by $D$.\n",
    "2. In period t>1: \n",
    "    1. repay $R^f_{t-1}D$ cash to the old\n",
    "    2. issue $D$ debt to the young\n",
    "    3. give $(1-R^f_{t-1})D$ cash to the young \n",
    "    \n",
    "        **Note by Yinshan:** B+C is equivalent to issuing $R^f_{t-1}D$ debt to the young at time t, with return rate $\\frac{R^f_t}{R^f_{t-1}}$\n",
    "    4. tax capital income at rate $\\tau_t$($\\tau_t$ varies over time and is chosen so the overall effect of the policy on after tax $R$(risky rate) and $W$ is zero). \n",
    "        **Note by Prof. Waldmann:** $\\tau_t$ will also depend on $K_{t-1}$, the stock of capital given the policy.  In general this is a bit tricky, because $K_{t-1}$ depends on $\\tau_t$ so, in general the outcome is a Nash equilibrium of a game played by the fiscal authority and the economic agents.  However, since the aim is to get $(1- \\tau_t)R_t = R_t*$ which also implies $W_t(1+ \\tau_tR_tK_t/W_t) = W_t*$, it is possible to calculate $K_t$ without solving simultaneous equations.\n",
    "        **Note by Yinshan:** \n",
    "    5. subsidize wage $W$ with the revenue from that tax"
   ]
  },
  {
   "cell_type": "markdown",
   "metadata": {},
   "source": [
    "## Calculating $\\tau_2$ "
   ]
  },
  {
   "cell_type": "markdown",
   "metadata": {},
   "source": [
    "The young in period 1 solves \n",
    "$$\\max_{C_{y,1}} E[V_1]=(1-\\beta)ln(C_{y,1})+\\beta E[ln(\\alpha Y_2(1-\\tau_2)+DR_1^f)]$$\n",
    "\n",
    "Thus we have \n",
    "$$0=\\frac{\\partial E[V_1]}{\\partial C_{y,1}}=\\frac{1-\\beta}{C_{y,1}}-\\frac{\\beta\\alpha^2(1-\\tau_2)(W_1-D-C_{y,1})^{\\alpha-1}}{2}(\\frac{1+\\sigma}{A}+\\frac{1-\\sigma}{B}) \\ \\ \\text{(Condition 1)}  \\label{eq:cond1}$$\n",
    "$$0=\\frac{\\partial E[V_1]}{\\partial D}=\\frac{R_1^f-\\alpha^2(1+\\sigma)(1-\\tau_2)(W_1-D-C_{y,1})^{\\alpha-1}}{A}+\\frac{R_1^f-\\alpha^2(1-\\sigma)(1-\\tau_2)(W_1-D-C_{y,1})^{\\alpha-1}}{B} \\ \\ \\text{(Condition 2)}  \\label{eq:cond2}$$\n",
    "where \n",
    "$$A=\\alpha(1-\\tau_2)(1+\\sigma)(W_1-D-C_{y,1})^{\\alpha}+DR_1^f$$\n",
    "$$B=\\alpha(1-\\tau_2)(1-\\sigma)(W_1-D-C_{y,1})^{\\alpha}+DR_1^f$$\n",
    "since the agent optimizes over $C_{y,1}$ and the amount of debt purchased given the risk-free rate.\n",
    "\n",
    "We further require that $\\tau_2$ satisfies\n",
    "$$\\frac{\\pi_2}{K_2}=\\frac{(1-\\tau_2)\\alpha Y_2}{K_2}=R_2=R_2^*=(\\frac{\\alpha(1+\\epsilon_2)}{(1-\\alpha)\\beta(1+\\epsilon_1)K_1^\\alpha})^{1-\\alpha} $$\n",
    "which gives us\n",
    "$$\\tau_2=1-\\frac{W_1-D-C_{y,1}}{(1-\\alpha)\\beta(1+\\epsilon_1)K_1^\\alpha}\\ \\ \\text{(Condition 3)} \\label{eq:cond3} $$\n",
    "Notice now that we have a system of three equations (condition 1, 2, and 3)(or \\ref{eq:cond1},\\ref{eq:cond2} and \\ref{eq:cond3}, but the links may not work with nbviewer) with three unknowns($R_1^f$, $C_{y,1}$ and $\\tau_2$).\n",
    "**(Equations to be solved.)**\n",
    "\n",
    "**(Updated Jun.13: tried mathematica but stuck: programme kept running, cannot arrive at solutions.)**\n"
   ]
  },
  {
   "cell_type": "markdown",
   "metadata": {},
   "source": [
    "## Calculating $\\tau_3$"
   ]
  },
  {
   "cell_type": "markdown",
   "metadata": {},
   "source": [
    "(To do: calculate how $\\tau_3$ depends on $Y_2$, $\\tau_2$ and $\\epsilon_3$.)"
   ]
  },
  {
   "cell_type": "markdown",
   "metadata": {},
   "source": [
    "## Predicted Effects of Such Policies"
   ]
  },
  {
   "cell_type": "markdown",
   "metadata": {},
   "source": [
    "**Claim by Prof. Waldmann: If $R^f_t<1 \\ \\forall t$, then the policy causes a Pareto improvement so long as $D$ is small enough. This does not depend on $E[R^t]$ at all.**"
   ]
  },
  {
   "cell_type": "markdown",
   "metadata": {},
   "source": [
    "_**tentative proof:**_\n",
    "\n",
    "Assume we impose a small debt $D$ and proportional tax and subsidy such that $R_{t+1}=R_{t+1}^*$. \n",
    "\n",
    "For the old at time $t=1$, utility is increased as a result of government transfer.\n",
    "\n",
    "**Consider the young at time t=1:**\n",
    "\n",
    "Each of them chooses $C_{y,1}$ and $D$ to maximize utility\n",
    "$$V_1=(1-\\beta)ln(C_{y,1})+\\beta ln(R_1^fD+R_2^*K_1)$$\n",
    "subject to the constraint that\n",
    "$$C_{y,1}+K_1=W_1=W_1^*$$\n",
    "Recall that without government debt, tax or subsidy, the young chooses $C_{y,1}^*$ to maximize utility\n",
    "$$V_1^*=(1-\\beta)ln(C_{y,1}^*)+\\beta ln(R_2^*K_1^*)$$\n",
    "subject to the constraint that \n",
    "$$C_{y,1}^*+K_1^*=W_1^*$$\n",
    "Notice that any realized value of $V_1^*$ can be achieved by $V_1$ if we choose D=0 and maximize over values of $C_{y,1}$ only. As a result, we must have $$\\max V_1\\ge \\max V_1^*$$ \n",
    "In other words, **for the young at time $t=1$, the policy will not lead to a decrease in utility.**\n",
    "\n",
    "\n",
    "**We now consider the young at time $t>1$. (That's the problematic part.)**\n",
    "\n",
    "He/She chooses $C_{y,t}$ and $D$ to maximize utility\n",
    "$$V_t=(1-\\beta)ln(C_{y,t})+\\beta ln(R_t^fD+R_{t+1}^*K_t)$$\n",
    "subject to the constraint that\n",
    "$$C_{y,t}+K_t+R_{t-1}^fD=W_t+\\tau_tR_tK_t$$\n",
    "Recall that without government debt, tax or subsidy, the young chooses $C_{y,t}^*$ to maximize utility\n",
    "$$V_t^*=(1-\\beta)ln(C_{y,t}^*)+\\beta ln(R_{t+1}^*K_t^*)$$\n",
    "subject to the constraint that \n",
    "$$C_{y,t}^*+K_t^*=W_t^*$$\n",
    "\n",
    "**Comment by Yinshan**:\n",
    "\n",
    "I guess what Prof. Waldmann had in mind was that if we know $W_t+\\tau_tR_tK_t\\ge W_t^*$, then by the same logic as in the case t=1, we can conclude that $\\max V_t\\ge \\max V_t^*$. Consequently, all of the future generations will have their utility weakly higher than the case without any debt, tax or subsidy.\n",
    "\n",
    "However, by the lemma below, as long as $K_t\\neq K_t^*$, $W_t+\\tau_tR_tK_t< W_t^*$. And this makes the relation between $\\max V_t$ and $\\max V_t^*$ unclear without further proof.\n"
   ]
  },
  {
   "cell_type": "markdown",
   "metadata": {},
   "source": [
    "*A small result from $\\tau_t$: *\n",
    "\n",
    "**Lemma 1: we cannot hold both the risky return and after-subsidy wage constant if we only use proportional tax and subsidy and debt.**\n",
    "\n",
    "__*proof:*__\n",
    "\n",
    "Here $\\pi_t$ and $W_t$ stand for capital income after tax and labor income after subsidy.\n",
    "For an arbitrary t, \n",
    "\n",
    "$$Y_t=(1+\\epsilon_t)F(K_t)=(1+\\epsilon_t)K_t^\\alpha$$\n",
    "$$\\frac{\\pi_t}{K_t}=R_t=R_t^*\\frac{\\pi_t^*}{K_t^*}=\\frac{\\alpha(1+\\epsilon_t)(K_t^*)^\\alpha}{K_t^*}$$\n",
    "Thus $$\\pi_t=\\alpha(1+\\epsilon_t)(K_t^*)^{\\alpha-1}K_t$$\n",
    "$$W_t=Y_t-\\pi_t=(1+\\epsilon_t)(K_t^*)^\\alpha((\\frac{K_t}{K_t^*})^\\alpha-\\alpha(\\frac{K_t}{K_t^*}))<(1+\\epsilon_t)(K_t^*)^\\alpha(1-\\alpha)=W_t^* \\ \\ \\text{if} \\ K_t \\neq K_t^*$$\n",
    "Therefore when trying to hold the risky return rate constant, the wage must be less than the laissez faire with $D = 0$.\n"
   ]
  },
  {
   "cell_type": "markdown",
   "metadata": {},
   "source": [
    "**Interpretation:** \n",
    "Firstly recall that all of the above variables are per-worker values. \n",
    "\n",
    "* Assume we arrive at an equilibrium with $K_t<K_t^*$, then $Y_t<Y_t^*$. Meanwhile, marginal return before tax/subsidy would be higher for capital and lower for labor, compared with the zero-debt case. The formula tells us that even if we shift some of the capital income to labor and keep the return rate the same for capital, the amount of labor income will still stay below the zero-debt case, since the output amount is smaller.\n",
    "\n",
    "* Similarly, if we arrive at an equilibrium with $K_t>K_t^*$, then $Y_t>Y_t^*$. Meanwhile, marginal return before tax/subsidy would be higher for labor and lower for capital, compared with the zero-debt case. If we shift some labor income to capital to preserve risky return on capital, after-tax labor income will be lower than the zero-debt case.\n",
    "\n",
    "* What if $K_t=K_t^*$? Then we would have exactly same capital per worker, same output and marginal return to labor and capital. That implies there's no need for the tax or subsidy. \n",
    "    But consider the welfare of young in period 1. Since $K_2=K_2^*$, we would have $C_{y,1}=C_{y,1}^*-D$ and $C_{o,2}=C_{o,2}^*+R_1^fD$."
   ]
  },
  {
   "cell_type": "code",
   "execution_count": null,
   "metadata": {},
   "outputs": [],
   "source": []
  },
  {
   "cell_type": "code",
   "execution_count": null,
   "metadata": {},
   "outputs": [],
   "source": []
  },
  {
   "cell_type": "markdown",
   "metadata": {},
   "source": [
    "# Another simple special case: constant young marginal utility and 2-state uncertainty"
   ]
  },
  {
   "cell_type": "markdown",
   "metadata": {},
   "source": [
    "## Assumptions"
   ]
  },
  {
   "cell_type": "markdown",
   "metadata": {},
   "source": [
    "Continuing from the linear+log utility, constant population and 2-state uncertainty assumption in [Prof. DeLong's notebook](https://nbviewer.jupyter.org/github/braddelong/WS2019/blob/master/Thinking_About_Blanchard%27s_Presidential_Address....ipynb?flushcache=true#-Thinking-About-Blanchard's-Presidential-Address...), copy some equations here for convenience. \n",
    "\n",
    "$$V = C_y + \\beta{\\ln(C_o)}$$\n",
    "\n",
    "$$Y_{t} = (1 + \\epsilon_{t})F(K_{t}) = (1 + \\epsilon_{t})(K_{t})^\\alpha$$\n",
    "\n",
    "where $\\epsilon_{t}$ can be $-\\sigma$ or $\\sigma$ with equal probability 0.5. Capital income of the old at time t would be \n",
    "$$ \\pi_t = \\alpha{Y_t} $$"
   ]
  },
  {
   "cell_type": "markdown",
   "metadata": {},
   "source": [
    "## Zero-debt case"
   ]
  },
  {
   "cell_type": "markdown",
   "metadata": {},
   "source": [
    "Denote the variables in the zero-debt case with *, then\n",
    "\n",
    "$$ W^*_t = (1- \\alpha){Y_t^*} $$\n",
    "\n",
    "$$ C_{y,t} = W_t - \\beta\\alpha = (1 + \\epsilon_{t})F(K_{t}) - \\beta\\alpha$$\n",
    "\n",
    "$$C_{o,t+1} = \\alpha(1 + \\epsilon_{t+1})(\\beta\\alpha)^\\alpha$$\n",
    "\n",
    "$$ K^*_{t+1} = \\beta\\alpha $$\n",
    "\n",
    "$$ {R^f}_t^* =\\beta^{\\alpha-1}\\alpha^{1+\\alpha} \\left[ 1-\\sigma^2 \\right] $$\n",
    "\n",
    "$$R_{t+1}^* = (1 + \\epsilon_{t+1})\\alpha(\\beta\\alpha)^{\\alpha-1}$$\n",
    "\n",
    "$$ E_tR_{t+1} = \\beta^{\\alpha-1}\\alpha^{\\alpha} $$\n",
    "(derivation can be found [here](https://nbviewer.jupyter.org/github/braddelong/WS2019/blob/master/Thinking_About_Blanchard%27s_Presidential_Address....ipynb?flushcache=true#-Thinking-About-Blanchard's-Presidential-Address...).)\n",
    "\n",
    "~~We can further show by iteration that \n",
    "$$K^*_t=$$\n",
    "And thus we can get an explicit formula for utility of an agent living in time t. See derivation [here](https://github.com/YinshanS/Thoughts-on-Diamond/blob/master/scratch%20simplest%20case%20utility%20wo%20debt.pdf).~~\n",
    "(not yet available)"
   ]
  },
  {
   "cell_type": "markdown",
   "metadata": {},
   "source": [
    "## The Policy: Debt + Tax"
   ]
  },
  {
   "cell_type": "markdown",
   "metadata": {},
   "source": [
    "Omitted, same as [above](#2.4)."
   ]
  },
  {
   "cell_type": "markdown",
   "metadata": {},
   "source": [
    "## Calculating $\\tau_2$ "
   ]
  },
  {
   "cell_type": "markdown",
   "metadata": {},
   "source": [
    "The young in period 1 solves \n",
    "$$\\max_{C_{y,1}} E[V_1]=C_{y,1}+\\beta E[ln(\\alpha Y_2(1-\\tau_2)+DR_1^f)]$$\n",
    "\n",
    "Thus we have \n",
    "$$0=\\frac{\\partial E[V_1]}{\\partial C_{y,1}}=1-\\frac{\\beta\\alpha^2(1-\\tau_2)(W_1-D-C_{y,1})^{\\alpha-1}}{2}(\\frac{1+\\sigma}{A}+\\frac{1-\\sigma}{B}) \\label{eq:cond2.1}$$\n",
    "$$0=\\frac{\\partial E[V_1]}{\\partial D}=\\frac{R_1^f-\\alpha^2(1+\\sigma)(1-\\tau_2)(W_1-D-C_{y,1})^{\\alpha-1}}{A}+\\frac{R_1^f-\\alpha^2(1-\\sigma)(1-\\tau_2)(W_1-D-C_{y,1})^{\\alpha-1}}{B}  \\label{eq:cond2.2}$$\n",
    "where \n",
    "$$A=\\alpha(1-\\tau_2)(1+\\sigma)(W_1-D-C_{y,1})^{\\alpha}+DR_1^f$$\n",
    "$$B=\\alpha(1-\\tau_2)(1-\\sigma)(W_1-D-C_{y,1})^{\\alpha}+DR_1^f$$\n",
    "since the agent optimizes over $C_{y,1}$ and the amount of debt purchased given the risk-free rate.\n",
    "\n",
    "We further require that $\\tau_2$ satisfies\n",
    "$$\\frac{\\pi_2}{K_2}=\\frac{(1-\\tau_2)\\alpha Y_2}{K_2}=R_2=R_2^*=(\\frac{\\alpha(1+\\epsilon_2)}{(1-\\alpha)\\beta(1+\\epsilon_1)K_1^\\alpha})^{1-\\alpha} $$\n",
    "which gives us\n",
    "$$\\tau_2=1-\\frac{W_1-D-C_{y,1}}{(1-\\alpha)\\beta(1+\\epsilon_1)K_1^\\alpha}\\label{eq:cond2.3} $$\n",
    "Notice now that we have a system of three equations(\\ref{eq:cond2.1},\\ref{eq:cond2.2} and \\ref{eq:cond2.3}) with three unknowns($R_1^f$, $C_{y,1}$ and $\\tau_2$).\n",
    "**(Equations to be solved.)**\n",
    "\n",
    "**(Updated Jun.13: Mathematica gave very complicated solutions. Code and result can be found [here](https://github.com/YinshanS/Thoughts-on-Diamond/blob/master/scratch%20for%20tau_2.nb) and [here](https://github.com/YinshanS/Thoughts-on-Diamond/blob/master/scratch%20for%20tau_2.pdf))**\n"
   ]
  },
  {
   "cell_type": "markdown",
   "metadata": {},
   "source": [
    "## Predicted Effects of Such Policies"
   ]
  },
  {
   "cell_type": "markdown",
   "metadata": {},
   "source": [
    "**Claim by Prof. Waldmann: If $R^f_t<1 \\ \\forall t$, then the policy causes a Pareto improvement so long as $D$ is small enough. This does not depend on $E[R^t]$ at all.**"
   ]
  },
  {
   "cell_type": "markdown",
   "metadata": {},
   "source": [
    "**A small result from $\\tau_t$: we cannot hold both the risky return and after-subsidy wage constant if we only use proportional tax and subsidy and debt.**\n",
    "\n",
    "Here $\\pi_t$ and $W_t$ stand for capital income and labor income after subsidy.\n",
    "For an arbitrary t, \n",
    "\n",
    "$$Y_t=(1+\\epsilon_t)F(K_t)=(1+\\epsilon_t)K_t^\\alpha$$\n",
    "$$\\frac{\\pi_t}{K_t}=R_t=R_t^*\\frac{\\pi_t^*}{K_2^*}=\\frac{\\alpha(1+\\epsilon_t)(K_t^*)^\\alpha}{K_2^*}$$\n",
    "Thus $$\\pi_t=\\alpha(1+\\epsilon_t)(K_t^*)^{\\alpha-1}K_t$$\n",
    "$$W_t=Y_t-\\pi_t=(1+\\epsilon_t)(K_t^*)^\\alpha((\\frac{K_t}{K_t^*})^\\alpha-\\alpha(\\frac{K_t}{K_t^*}))<(1+\\epsilon_t)(K_t^*)^\\alpha(1-\\alpha)=W_t^* \\ \\ \\text{if} \\ K_t \\neq K_t^*$$\n",
    "Therefore when trying to hold the risky return rate constant, the wage must be less than the laissez faire with $D = 0$.\n"
   ]
  },
  {
   "cell_type": "markdown",
   "metadata": {},
   "source": []
  },
  {
   "cell_type": "code",
   "execution_count": 1,
   "metadata": {},
   "outputs": [
    {
     "data": {
      "application/javascript": [
       "$.getScript('https://kmahelona.github.io/ipython_notebook_goodies/ipython_notebook_toc.js')\n"
      ],
      "text/plain": [
       "<IPython.core.display.Javascript object>"
      ]
     },
     "metadata": {},
     "output_type": "display_data"
    }
   ],
   "source": [
    "%%javascript\n",
    "$.getScript('https://kmahelona.github.io/ipython_notebook_goodies/ipython_notebook_toc.js')"
   ]
  }
 ],
 "metadata": {
  "kernelspec": {
   "display_name": "Python 3",
   "language": "python",
   "name": "python3"
  },
  "language_info": {
   "codemirror_mode": {
    "name": "ipython",
    "version": 3
   },
   "file_extension": ".py",
   "mimetype": "text/x-python",
   "name": "python",
   "nbconvert_exporter": "python",
   "pygments_lexer": "ipython3",
   "version": "3.6.5"
  },
  "latex_envs": {
   "LaTeX_envs_menu_present": false,
   "autoclose": true,
   "autocomplete": true,
   "bibliofile": "biblio.bib",
   "cite_by": "apalike",
   "current_citInitial": 1,
   "eqLabelWithNumbers": true,
   "eqNumInitial": 1,
   "hotkeys": {
    "equation": "Ctrl-E",
    "itemize": "Ctrl-I"
   },
   "labels_anchors": false,
   "latex_user_defs": false,
   "report_style_numbering": true,
   "user_envs_cfg": true
  },
  "toc": {
   "base_numbering": 1,
   "nav_menu": {
    "height": "139px",
    "width": "160px"
   },
   "number_sections": true,
   "sideBar": true,
   "skip_h1_title": false,
   "title_cell": "Table of Contents",
   "title_sidebar": "Contents",
   "toc_cell": false,
   "toc_position": {},
   "toc_section_display": true,
   "toc_window_display": false
  }
 },
 "nbformat": 4,
 "nbformat_minor": 2
}
