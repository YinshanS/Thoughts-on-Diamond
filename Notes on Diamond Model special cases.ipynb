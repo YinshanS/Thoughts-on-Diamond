{
 "cells": [
  {
   "cell_type": "markdown",
   "metadata": {},
   "source": [
    "<h1 id=\"tocheading\">Table of Contents</h1>\n",
    "<div id=\"toc\"></div>"
   ]
  },
  {
   "cell_type": "markdown",
   "metadata": {},
   "source": [
    "# I. Log utility and 2-state uncertainty"
   ]
  },
  {
   "cell_type": "markdown",
   "metadata": {},
   "source": [
    "## 1.1 Assumptions"
   ]
  },
  {
   "cell_type": "markdown",
   "metadata": {},
   "source": [
    "Continuing from the log utility, constant population and 2-state uncertainty assumption in [Prof. DeLong's notebook](https://nbviewer.jupyter.org/github/braddelong/WS2019/blob/master/Thinking_About_Blanchard%27s_Presidential_Address....ipynb?flushcache=true#-Thinking-About-Blanchard's-Presidential-Address...), copy some equations here for convenience. \n",
    "\n",
    "$$V = (1-\\beta)\\ln(C_y) + \\beta{\\ln(C_o)}$$\n",
    "\n",
    "$$Y_{t} = (1 + \\epsilon_{t})F(K_{t}) = (1 + \\epsilon_{t})(K_{t})^\\alpha$$\n",
    "\n",
    "where $\\epsilon_{t}$ can be $-\\sigma$ or $\\sigma$ with equal probability 0.5. Capital income of the old at time t would be \n",
    "$$ \\pi_t = \\alpha{Y_t} $$"
   ]
  },
  {
   "cell_type": "markdown",
   "metadata": {},
   "source": [
    "## 1.2 The base case: Zero-debt case"
   ]
  },
  {
   "cell_type": "markdown",
   "metadata": {},
   "source": [
    "Denote the variables in the zero-debt case with *, then\n",
    "\n",
    "$$ W^*_t = (1- \\alpha){Y_t^*} $$\n",
    "\n",
    "$$ C^*_{y,t} = (1-\\beta)W_t^* = (1-\\beta)(1-\\alpha)(1 + \\epsilon_{t})F(K^*_{t}) $$\n",
    "\n",
    "$$ K^*_{t+1} = \\beta(1-\\alpha)(1 + \\epsilon_{t})F(K^*_{t}) $$\n",
    "\n",
    "$$ {R^f}_t^* =\\frac{{\\alpha}F({\\beta}W_t^*)}{{\\beta}W_t^*}\\left[ 1 - \\sigma^2 \\right] = \\frac{\\alpha[1-\\sigma^2]}{({\\beta}W_t^*)^{1-\\alpha}} \\ \\ \\text{(This holds only when the debt amount is very close to 0.)} $$\n",
    "In general, we would have\n",
    "$$$$\n",
    "\n",
    "$$R_t^*=\\frac{\\pi_t^*}{K_t^*}=\\frac{\\alpha(1+\\epsilon_t)}{(K_t^*)^{1-\\alpha}}$$\n",
    "\n",
    "$$ \\frac{(1-\\beta)}{C_{y,t}^*} = E_t \\left[ {R_{t+1}^*}\\frac{\\beta}{C^*_{o,t+1}} \\right] $$\n",
    "\n",
    "$$ \\frac{E_t(R_{t+1}^*)}{{R^f}_t^*} = \\frac{1}{1 - \\sigma^2} $$\n",
    "(derivation can be found [here](https://nbviewer.jupyter.org/github/braddelong/WS2019/blob/master/Thinking_About_Blanchard%27s_Presidential_Address....ipynb?flushcache=true#-Thinking-About-Blanchard's-Presidential-Address...).)\n",
    "\n",
    "We can further show by iteration that \n",
    "$$K^*_t=\\beta(1-\\alpha)Y_{t-1}=(1+\\epsilon_{t-1})\\beta(1-\\alpha)K_{t-1}^\\alpha=(K_1)^{\\alpha^{t-1}}\\prod^{t-1}_1[(1+\\epsilon_i)\\beta(1-\\alpha)]^{\\alpha^{t-1-i}}$$\n",
    "And thus we can get an explicit formula for utility of an agent living in time t. See derivation [here](https://github.com/YinshanS/Thoughts-on-Diamond/blob/master/scratch%20simplest%20case%20utility%20wo%20debt.pdf).\n",
    "\n",
    "(The general formula doesn't seem to be very helpful up to now. I included it here for future reference.)"
   ]
  },
  {
   "cell_type": "markdown",
   "metadata": {},
   "source": [
    "## 1.3 Policy 1: Time-varying Debt + Tax (Updated Jun.19)\n",
    "<a id='2.4'></a>"
   ]
  },
  {
   "cell_type": "markdown",
   "metadata": {},
   "source": [
    "The aim of the policy is to preserve the welfare-increasing direct transfer effect of the debt while trying to offset its general equilibrium effect on decreasing capital stock with the tax and subsidy.\n",
    "\n",
    "**(Updated Jun.19: Try making the debt amount different across time so as to make income when young same as the base case, i.e., the case without any debt, tax or subsidy.)**\n",
    "\n",
    "1. In period 1: \n",
    "    1. issue a small amount of debt $D_1$ to the young with risk-free interest rate $R^f_1$\n",
    "    2. distribute $D_1$ cash to the old, resulting in a welfare improvement for the old in period 1 by increasing $C_{o,1}$ by $D_1$.\n",
    "2. In period t>1: \n",
    "    1. repay $R^f_{t-1}D_{t-1}$ cash to the old\n",
    "    2. issue $D_t$ debt to the young\n",
    "    3. give $D_t-R^f_{t-1}D_{t-1}$ cash to the young \n",
    "    4. tax capital income at rate $\\tau_t$\n",
    "    5. subsidize wage $W$ with the revenue from that tax\n",
    "  \n",
    " Condition on $\\tau_t$ and $D_t$:\n",
    " $$(1-\\tau_t)R_t=R_t^*$$\n",
    " $$W_t+\\tau_tR_tK_t+D_t-D_{t-1}R_{t-1}^f\\ge W_t^*$$\n",
    " \n",
    " \n",
    " \n",
    " **Need to show:**\n",
    "There exist $D_t\\ge0$ $\\forall t$ such that \n",
    "1. It makes the policy a Pareto improvement, i.e.,\n",
    " $$W_t+\\tau_tR_tK_t+D_t-D_{t-1}R_{t-1}^f\\ge W_t^*\\ \\ \\forall t>1$$\n",
    "2. It is affordable for the government, i.e.,\n",
    "$$D_t-D_{t-1}R_{t-1}^f\\ge 0 \\ \\ \\forall t>1$$"
   ]
  },
  {
   "cell_type": "markdown",
   "metadata": {},
   "source": [
    "### 1.3.1 Lemma 1: We cannot hold R and W constant simultaneously if $D_t=R_{t-1}^fD_{t-1}$\n",
    "<a id='lemma1'></a>"
   ]
  },
  {
   "cell_type": "markdown",
   "metadata": {},
   "source": [
    "**Lemma 1: we cannot hold both the risky return and after-subsidy wage constant if we only use debt, proportional capital income tax, and proportionl wage subsidy sponsored solely by tax revenue, and $D_t=R_{t-1}^fD_{t-1}$.**\n",
    "\n",
    "As a result, to hold R and W constant at the same time, we must keep $D_t>R_{t-1}^fD_{t-1}$.\n",
    "\n",
    "\n",
    "<a id='proof-of-lemma-1'></a>\n",
    "__*proof:*__\n",
    "\n",
    "Here $\\pi_t$ and $W_t$ stand for capital income after tax and labor income after subsidy.\n",
    "For an arbitrary t, \n",
    "\n",
    "$$Y_t=(1+\\epsilon_t)F(K_t)=(1+\\epsilon_t)K_t^\\alpha$$\n",
    "$$\\frac{\\pi_t}{K_t}=R_t=R_t^*\\frac{\\pi_t^*}{K_t^*}=\\frac{\\alpha(1+\\epsilon_t)(K_t^*)^\\alpha}{K_t^*}$$\n",
    "Thus $$\\pi_t=\\alpha(1+\\epsilon_t)(K_t^*)^{\\alpha-1}K_t$$\n",
    "$$W_t=Y_t-\\pi_t=(1+\\epsilon_t)(K_t^*)^\\alpha((\\frac{K_t}{K_t^*})^\\alpha-\\alpha(\\frac{K_t}{K_t^*}))<(1+\\epsilon_t)(K_t^*)^\\alpha(1-\\alpha)=W_t^* \\ \\ \\text{if} \\ K_t \\neq K_t^*$$\n",
    "Therefore when trying to hold the risky return rate constant, the wage must be less than the laissez faire with $D = 0$.\n",
    "\n",
    "Q.E.D."
   ]
  },
  {
   "cell_type": "markdown",
   "metadata": {},
   "source": [
    "**Interpretation:** \n",
    "Firstly recall that all of the above variables are per-worker values. \n",
    "\n",
    "* Assume we arrive at an equilibrium with $K_t<K_t^*$, then $Y_t<Y_t^*$. Meanwhile, marginal return before tax/subsidy would be higher for capital and lower for labor, compared with the zero-debt case. The formula tells us that even if we shift some of the capital income to labor and keep the return rate the same for capital, the amount of labor income will still stay below the zero-debt case, since the output amount is smaller.\n",
    "\n",
    "* Similarly, if we arrive at an equilibrium with $K_t>K_t^*$, then $Y_t>Y_t^*$. Meanwhile, marginal return before tax/subsidy would be higher for labor and lower for capital, compared with the zero-debt case. If we shift some labor income to capital to preserve risky return on capital, after-tax labor income will be lower than the zero-debt case.\n",
    "\n",
    "* What if $K_t=K_t^*$? Then we would have exactly same capital per worker, same output and marginal return to labor and capital. That implies there's no need for the tax or subsidy. Then we would need to show that the debt itself induces a Pareto improvement, which I guess would be very hard (if possible).\n",
    "\n",
    "**Remark:**\n",
    "\n",
    "Notice that this result is independent of utility functional form. It depends on the production function only.\n"
   ]
  },
  {
   "cell_type": "markdown",
   "metadata": {},
   "source": [
    "### 1.3.2 Lemma 2: $C_{y,t}$ is a fixed fraction of income received when young (Updated Jun.19)\n",
    "<a id='lemma2'></a>"
   ]
  },
  {
   "cell_type": "markdown",
   "metadata": {},
   "source": [
    "Or more precisely,$C_{y,t}=(1-\\beta)(W_t+\\tau_tR_tK_t)$.\n",
    "\n",
    "The above holds for all debt level, with or without tax and subsidy.(Plug in $\\tau_t=0$ in the case without tax and subsidy.) We prove by assuming the contrary and arriving at a contradiction.\n",
    "\n",
    "_**proof:**_\n",
    "\n",
    "Consider an agent young at time $t$ maximizing his/her (expected) utility\n",
    "$$V_t=(1-\\beta)ln(C_{y,t})+E[\\beta ln[(W_t+\\tau_tR_tK_t-C_{y,t}-D)R_{t+1}+R_t^fD]]$$\n",
    "Assume that the agent chose $C_{y,t}\\neq(1-\\beta)(W_t+\\tau_tR_tK_t)$, together with $D$ and $K_t$ such that $K_t+D+C_{y,t}=W_t+\\tau_tR_tK_t$. Then we may consider the combination of debt and risky investment as an asset with return rate $\\frac{DR_t^f+KR_{t+1}}{D+K}$. Holding $\\frac{D}{K}$ constant, for each realized value of $R_{t+1}$, the combined asset will have a fixed return rate $\\gamma$. Equivalently, write \n",
    "$$V=(1-\\beta)ln(C_{y,t})+\\frac{\\beta}{2}ln[(W_t+\\tau_tR_tK_t-C_{y,t})\\gamma_1+\\frac{\\beta}{2}ln[(W_t+\\tau_tR_tK_t-C_{y,t})\\gamma_2]$$\n",
    "where $\\gamma_1$ and $\\gamma_2$ correponds to the two realized value of $Y_{t+1}$ given K.\n",
    "\n",
    "By FOC of log-utility, if the agent is maximizing over distributing $W_t$ between current consumption $C_{t,y}$ and combined asset $W_t+\\tau_tR_tK_t-C_{y,t}$ with return rate $\\gamma$, then we must have $C_{y,t}=(1-\\beta)(W_t+\\tau_tR_tK_t)$. Since the agent is maximizing over a larger choice set than the fixed return asset case and arrived at this specific return rate, it must be that $C_{y,t}=(1-\\beta)(W_t+\\tau_tR_tK_t)$.\n",
    "\n",
    "Q.E.D."
   ]
  },
  {
   "cell_type": "markdown",
   "metadata": {},
   "source": [
    "### 1.3.3 Lemma 3: Explicit formula for $\\tau_t$  (Updated Jun.20)"
   ]
  },
  {
   "cell_type": "markdown",
   "metadata": {},
   "source": [
    "$\\tau_2$ satisfies\n",
    "$$(1-\\tau_2)\\frac{F(K_2)}{K_2}=(1-\\tau_2)R_2=R_2^*=\\frac{F(K_2^*)}{K_2^*}$$\n",
    "Thus by plugging in $K_2$ and $F$ as functions of $W_1$ and $D_1$, we have $$\\tau_2=1-(\\frac{\\beta W_1}{\\beta W_1-D_1})^{\\alpha-1}$$"
   ]
  },
  {
   "cell_type": "markdown",
   "metadata": {},
   "source": [
    "Similarly, if we assume that the policy can hold $W_t=W_t^*$ for all $t$, then \n",
    "$$(1-\\tau_t)\\frac{F(K_t)}{K_t}=(1-\\tau_t)R_t=R_t^*=\\frac{F(K_t^*)}{K_t^*}$$\n",
    "By Lemma 2, assuming $W_{t-1}=W_{t-1}^*$, we have \n",
    "$$K_t=\\beta W_{t-1}^*-D_{t-1}$$\n",
    "$$\\tau_t=1-(\\frac{\\beta W_{t-1}^*}{\\beta W_{t-1}^*-D_{t-1}})^{\\alpha-1}$$"
   ]
  },
  {
   "cell_type": "markdown",
   "metadata": {},
   "source": [
    "### 1.3.4 Predicted Effects of Such Policy when $D_t\\ge W_t^*-W_t-\\tau_tR_tK_t+R_{t-1}^fD_{t-1}$ (Updated Jun.20)"
   ]
  },
  {
   "cell_type": "markdown",
   "metadata": {},
   "source": [
    "**Claim: The policy causes a Pareto improvement if $D_t\\ge W_t^*-W_t-\\tau_tR_tK_t+R_{t-1}^fD_{t-1}$.**"
   ]
  },
  {
   "cell_type": "markdown",
   "metadata": {},
   "source": [
    "<a id='proofpolicy1'></a>\n",
    "_**proof:**_\n",
    "\n",
    "Assume we impose a small debt $D_1$ on the first generation, and $D_t\\ge W_t^*-W_t-\\tau_tR_tK_t+R_{t-1}^fD_{t-1}$ for subsequent generations. Rates of proportional tax and subsidy are determined such that $R_t(1-\\tau_t)=R_t^*$ for every generation. All and only the  revenue is used to finance wage subsidy. \n",
    "\n",
    "1. For the old at time $t=1$, utility is increased as a result of government transfer.\n",
    "\n",
    "2. Consider the young at time t=1:\n",
    "Each of them chooses $C_{y,1}$ and $D_1$ to maximize utility\n",
    "$$V_1=(1-\\beta)ln(C_{y,1})+\\beta ln(R_1^fD+R_2^*K_1)$$\n",
    "subject to the constraint that\n",
    "$$C_{y,1}+K_1=W_1=W_1^*$$\n",
    "Recall that without government debt, tax or subsidy, the young chooses $C_{y,1}^*$ to maximize utility\n",
    "$$V_1^*=(1-\\beta)ln(C_{y,1}^*)+\\beta ln(R_2^*K_1^*)$$\n",
    "subject to the constraint that \n",
    "$$C_{y,1}^*+K_1^*=W_1^*$$\n",
    "Notice that any realized value of $V_1^*$ can be achieved by $V_1$ if we choose D=0 and maximize over values of $C_{y,1}$ only. As a result, we must have $$\\max V_1\\ge \\max V_1^*$$ \n",
    "In other words, **for the young at time $t=1$, the policy will not lead to a decrease in utility.**\n",
    "\n",
    "3. We now consider the young at time $t>1$ by induction. \n",
    "\n",
    "    Assume that we are successful in holding the first $t-1$ generations (i.e., the generations that are young in first $t-1$ periods) at least as happy as in the base case. This would determine the debt amount $D_{t-i}$ and corresponding risk-free rate $R_{t-i}^f$ for all preceding periods (i can take any integer value between 1 and $t-1$). We also know the capital stock $K_{t-i}$, realized production amount $Y_{t-i}$, capital return rate$R_{t-i}$ and tax rate$\\tau_{t+1-i}$ for any integer i between 1 and $t-1$. However, we have freedom in choosing the debt amount $D_t$ for the current period.\n",
    "\n",
    "    Suppose we choose $D_t$ such that $D_t\\ge W_t^*-W_t-\\tau_tR_tK_t+R_{t-1}^fD_{t-1}$.\n",
    "\n",
    "    *(Practically the government does not choose the debt amount directly, but solves the utility optimization problem for its citizens and then set the risk-free interest rate such that the optimal debt investment amount would be exactly what the government wants.)*\n",
    "\n",
    "    Then after tax, subsidy and debt issurance, the generation young at time t would have income $$\\text{inc}_t=W_t+\\tau_tR_tK_t+D_t-R_{t-1}^fD_{t-1}\\ge W_t^*$$.\n",
    "\n",
    "    The agent chooses $C_{y,t}$ and $D_t$ to maximize utility\n",
    "    $$V_t=(1-\\beta)ln(C_{y,t})+\\beta E[ln(R_t^fD+R_{t+1}^*K_t)]$$\n",
    "    subject to the constraint that\n",
    "    $$C_{y,t}+K_{t+1}+D=W_t+\\tau_tR_tK_t+D_t-R_{t-1}^fD_{t-1}\\ge W_t^*$$\n",
    "\n",
    "    By revealed preference, because disposable income would not decrease, they have 1 more investment choice (government debt) and the risky investment return is held the same as in the base case, we can safely conclude that the young in time t must be no worse off than in the base case. \n",
    "\n",
    "By induction, we can conclude that any future generation would be no worse off. The policy would achieve a Pareto improvement.\n",
    "\n",
    "Q.E.D\n",
    "\n",
    "**Comment**:\n",
    "Problem with this policy is that the lower bound for $D_t$ depends on $W_t$, $R_t$ and thus the realized production $Y_t$. To make sure the inequality holds, taking into account the uncertainty in output, we might end up with a $D_t$ that's too large.\n",
    "\n",
    "**A relevant question would be, what's the unsafe debt level for a government and how is it determined?**\n",
    "\n",
    "We definitely don't want $D_t\\ge\\beta\\times inc_t$--this cannot be achieved whatever the risk-free rate is. What else? \n",
    "\n",
    "_**It remains to check whether there's a debt level $D_t$ creating Pareto improvement and is safe for the government.**_\n"
   ]
  },
  {
   "cell_type": "markdown",
   "metadata": {},
   "source": [
    "### 1.3.5 Lemma 4: $W_t^*-W_t-\\text{subsidy}$ is second-order in $\\delta D_{t-1}$ (Updated Jun.21)\n",
    "<a id='lemma4'></a>"
   ]
  },
  {
   "cell_type": "markdown",
   "metadata": {},
   "source": [
    "I attempt to rewrite Prof. Waldmann's argument that the remaining effect of debt after tax and subsidy is second-order.(If I didn't misunderstand) The idea is, if we can prove that the remaining difference between base-case wage and after-subsidy wage is second-order in $D_t$, since $D_t-D_{t-1}R_{t-1}^f$ is first-order in $D_t$, we can find a small enough $D_t$ such that tax revenue$+\\delta W_t+D_t-D_{t-1}R_{t-1}^f\\ge0$. In this way, we can make sure the policy achieves Pareto improvement.\n",
    "Thus for D close enough to 0, $$W_t+\\text{subsidy}+\\text{cash transfer}\\ge W_t^*$$ The policy will lead to a Pareto improvement."
   ]
  },
  {
   "cell_type": "markdown",
   "metadata": {},
   "source": [
    "_**proof:**_\n",
    "\n",
    "Recall that all variables with asterisk means its value in the base case (the case with no debt, tax or subsidy).\n",
    "$\\forall t, $\n",
    "$$R_t^*K_t^*+W_t^*=Y_t^*$$\n",
    "Now consider after we impose debt $D$ on every generation since period 1, at time $t$, we have (before tax and subsidy)\n",
    "$$R_tK_t+W_t=Y_t$$\n",
    "or equivalently,\n",
    "$$(R_t^*+\\delta R_t)(K_t^*+\\delta K_t)+(W_t^*+\\delta W_t)=Y_t^*+\\delta Y_t$$\n",
    "where $\\delta R_t=R_t-R_t^*$,$\\delta K_t=K_t-K_t^*$ and $\\delta Y_t=Y_t-Y_t^*$.\n",
    "\n",
    "Then we have \n",
    "$$\\delta R_t(K_t^*+\\delta K_t)+R_t^*\\delta K_t+\\delta W_t=\\delta Y_t$$\n",
    "Notice that $\\delta R_t(K_t^*+\\delta K_t)=(R_t-R_t^*)K_t$ equals the tax revenue $\\tau_tR_tK_t$ since we require $$(1-\\tau_t)R_tK_t=R_t^*K_t$$\n",
    "Rearrange and get \n",
    "$$\\text{tax revenue}+\\delta W_t=\\delta Y_t-R_t^*\\delta K_t$$\n"
   ]
  },
  {
   "cell_type": "markdown",
   "metadata": {},
   "source": [
    "When $K_t^*>1$ and take limit as $\\delta K_t$ approaches 0, we have \n",
    "$$ \\text{tax revenue}+\\delta W_t=\\delta Y_t-R_t^*\\delta K_t<(R_t-R_t^*)\\delta K_t=(1+\\epsilon_t)\\alpha(K_t^{\\alpha-1}-(K_t^*){\\alpha-1})\\delta K_t<(1+\\epsilon_t)\\alpha(\\delta K_t)^2$$\n",
    "Thus LHS is second-order in $\\delta K_t$.\n",
    "\n",
    "Recall from [Lemma 2](#lemma2) that given $inc_t$, we have $\\beta inc_t=K_{t+1}+D_t$. It follows that $\\text{tax revenue}+\\delta W_t$ is second-order in $\\delta D_{t-1}$. \n"
   ]
  },
  {
   "cell_type": "markdown",
   "metadata": {},
   "source": [
    "### 1.3.6 To do: check if there's a debt level $D_t$ creating Pareto improvement and is safe for the government."
   ]
  },
  {
   "cell_type": "markdown",
   "metadata": {},
   "source": [
    "## 1.4 Policy 2: Fixed Debt + proportional tax "
   ]
  },
  {
   "cell_type": "markdown",
   "metadata": {},
   "source": [
    "We already know from [Lemma 1](#lemma1) that to hold R and W constant at the same time, we must keep $D_t>R_{t-1}^fD_{t-1}$. But this condition is automatically satisfied if we choose $D_t=D_{t-1}$ and assume that $R_{t-1}^f<1$. Would the constant debt be enough to achieve Pareto improvement?"
   ]
  },
  {
   "cell_type": "markdown",
   "metadata": {},
   "source": [
    "### 1.4.1 Lemma 1, 2 and 4 still hold.  "
   ]
  },
  {
   "cell_type": "markdown",
   "metadata": {},
   "source": [
    "### 1.4.2 Feasibility Check (Updated Jun.21, Working) "
   ]
  },
  {
   "cell_type": "markdown",
   "metadata": {},
   "source": [
    "I attempt to prove(or disprove) that $\\exists D$ such that \n",
    "1. $R_t^f<1\\ \\forall t$\n",
    "2. $-\\delta Y_t+R_t^*\\delta K_t<(1-R_{t-1}^f)D \\ \\forall t>1$\n",
    "\n",
    "The first condition necessary for the debt to be affordable, and the second is equivalent to Pareto improvement. Notice from [Lemma 4](#lemma4) that the second condition implies the first. Thus it suffices to check the second condition."
   ]
  },
  {
   "cell_type": "markdown",
   "metadata": {},
   "source": [
    "All proof of Lemma 4 goes through until we conclude that $\\text{tax revenue}+\\delta W_t$ is second-order in $\\delta K_t$."
   ]
  },
  {
   "cell_type": "markdown",
   "metadata": {},
   "source": [
    "### 1.4.3 Attempt for explicit solution (working, updated Jun.13)"
   ]
  },
  {
   "cell_type": "markdown",
   "metadata": {},
   "source": [
    "The young in period 1 solves \n",
    "$$\\max_{C_{y,1}} E[V_1]=(1-\\beta)ln(C_{y,1})+\\beta E[ln(\\alpha Y_2(1-\\tau_2)+DR_1^f)]$$\n",
    "\n",
    "Thus we have \n",
    "$$0=\\frac{\\partial E[V_1]}{\\partial C_{y,1}}=\\frac{1-\\beta}{C_{y,1}}-\\frac{\\beta\\alpha^2(1-\\tau_2)(W_1-D-C_{y,1})^{\\alpha-1}}{2}(\\frac{1+\\sigma}{A}+\\frac{1-\\sigma}{B}) \\ \\ \\text{(Condition 1)}  \\label{eq:cond1}$$\n",
    "$$0=\\frac{\\partial E[V_1]}{\\partial D}=\\frac{R_1^f-\\alpha^2(1+\\sigma)(1-\\tau_2)(W_1-D-C_{y,1})^{\\alpha-1}}{A}+\\frac{R_1^f-\\alpha^2(1-\\sigma)(1-\\tau_2)(W_1-D-C_{y,1})^{\\alpha-1}}{B} \\ \\ \\text{(Condition 2)}  \\label{eq:cond2}$$\n",
    "where \n",
    "$$A=\\alpha(1-\\tau_2)(1+\\sigma)(W_1-D-C_{y,1})^{\\alpha}+DR_1^f$$\n",
    "$$B=\\alpha(1-\\tau_2)(1-\\sigma)(W_1-D-C_{y,1})^{\\alpha}+DR_1^f$$\n",
    "since the agent optimizes over $C_{y,1}$ and the amount of debt purchased given the risk-free rate.\n",
    "\n",
    "We further require that $\\tau_2$ satisfies\n",
    "$$\\frac{\\pi_2}{K_2}=\\frac{(1-\\tau_2)\\alpha Y_2}{K_2}=R_2=R_2^*=(\\frac{\\alpha(1+\\epsilon_2)}{(1-\\alpha)\\beta(1+\\epsilon_1)K_1^\\alpha})^{1-\\alpha} $$\n",
    "which gives us\n",
    "$$\\tau_2=1-\\frac{W_1-D-C_{y,1}}{(1-\\alpha)\\beta(1+\\epsilon_1)K_1^\\alpha}\\ \\ \\text{(Condition 3)} \\label{eq:cond3} $$\n",
    "Notice now that we have a system of three equations (condition 1, 2, and 3)(or \\ref{eq:cond1},\\ref{eq:cond2} and \\ref{eq:cond3}, but the links may not work with nbviewer) with three unknowns($R_1^f$, $C_{y,1}$ and $\\tau_2$).\n",
    "**(Equations to be solved.)**\n",
    "\n",
    "**(Updated Jun.13: tried mathematica but stuck: programme kept running, cannot arrive at solutions.)**\n"
   ]
  },
  {
   "cell_type": "markdown",
   "metadata": {},
   "source": [
    "## 1.5 Policy 3: Fixed Debt + proportional and lump-sum tax (To do)"
   ]
  },
  {
   "cell_type": "markdown",
   "metadata": {},
   "source": [
    "# 2 Constant young marginal utility and 2-state uncertainty"
   ]
  },
  {
   "cell_type": "markdown",
   "metadata": {},
   "source": [
    "## 2.1 Assumptions"
   ]
  },
  {
   "cell_type": "markdown",
   "metadata": {},
   "source": [
    "Continuing from the linear+log utility, constant population and 2-state uncertainty assumption in [Prof. DeLong's notebook](https://nbviewer.jupyter.org/github/braddelong/WS2019/blob/master/Thinking_About_Blanchard%27s_Presidential_Address....ipynb?flushcache=true#-Thinking-About-Blanchard's-Presidential-Address...), copy some equations here for convenience. \n",
    "\n",
    "$$V = C_y + \\beta{\\ln(C_o)}$$\n",
    "\n",
    "$$Y_{t} = (1 + \\epsilon_{t})F(K_{t}) = (1 + \\epsilon_{t})(K_{t})^\\alpha$$\n",
    "\n",
    "where $\\epsilon_{t}$ can be $-\\sigma$ or $\\sigma$ with equal probability 0.5. Capital income of the old at time t would be \n",
    "$$ \\pi_t = \\alpha{Y_t} $$"
   ]
  },
  {
   "cell_type": "markdown",
   "metadata": {},
   "source": [
    "## 2. 2 Zero-debt case"
   ]
  },
  {
   "cell_type": "markdown",
   "metadata": {},
   "source": [
    "Denote the variables in the zero-debt case with *, then\n",
    "\n",
    "$$ W^*_t = (1- \\alpha){Y_t^*} $$\n",
    "\n",
    "$$ C_{y,t} = W_t - \\beta\\alpha = (1 + \\epsilon_{t})F(K_{t}) - \\beta\\alpha$$\n",
    "\n",
    "$$C_{o,t+1} = \\alpha(1 + \\epsilon_{t+1})(\\beta\\alpha)^\\alpha$$\n",
    "\n",
    "$$ K^*_{t+1} = \\beta\\alpha $$\n",
    "\n",
    "$$ {R^f}_t^* =\\beta^{\\alpha-1}\\alpha^{1+\\alpha} \\left[ 1-\\sigma^2 \\right] $$\n",
    "\n",
    "$$R_{t+1}^* = (1 + \\epsilon_{t+1})\\alpha(\\beta\\alpha)^{\\alpha-1}$$\n",
    "\n",
    "$$ E_tR_{t+1} = \\beta^{\\alpha-1}\\alpha^{\\alpha} $$\n",
    "(derivation can be found [here](https://nbviewer.jupyter.org/github/braddelong/WS2019/blob/master/Thinking_About_Blanchard%27s_Presidential_Address....ipynb?flushcache=true#-Thinking-About-Blanchard's-Presidential-Address...).)\n",
    "\n",
    "~~We can further show by iteration that~~\n",
    "$$K^*_t=$$\n",
    "(Not yet available.)"
   ]
  },
  {
   "cell_type": "markdown",
   "metadata": {},
   "source": [
    "## 2.3 The Policy: Fixed Debt + Tax"
   ]
  },
  {
   "cell_type": "markdown",
   "metadata": {},
   "source": [
    "Omitted, same as [above](#2.4) except $D_t=D_{t-1}$ for all t."
   ]
  },
  {
   "cell_type": "markdown",
   "metadata": {},
   "source": [
    "### 2.3.1 Lemma 1 revisit: We cannot hold R and W constant simultaneously if $D_t=R_{t-1}^fD_{t-1}$"
   ]
  },
  {
   "cell_type": "markdown",
   "metadata": {},
   "source": [
    "The proof is exactly the same as [above](#lemma1)."
   ]
  },
  {
   "cell_type": "markdown",
   "metadata": {},
   "source": [
    "### 2.3.2 Lemma 5: $K_t+D_{t-1}=\\beta$ is a constant. (Updated Jun.21)\n",
    "<a id='lemma5'></a>"
   ]
  },
  {
   "cell_type": "markdown",
   "metadata": {},
   "source": [
    "This follows from the quasi-linear function form of the utility function. Similar as the argument [above](#lemma2), the agent must have chosen the optimal amount of investment if we view the combination of debt and risky investment as a compound investment choice. As a result, first order condition\n",
    "$$1=\\frac{\\beta}{W_t-C_{y,t}}$$ implies\n",
    "$$C_{y,t}=W_t-\\beta$$\n",
    "Since $W_t-C_{y,t}=D_t+K_{t+1}$, this gives us the desired result that $D_t+K_{t+1}=\\beta$ is constant."
   ]
  },
  {
   "cell_type": "markdown",
   "metadata": {},
   "source": [
    "### 2.3.3 Lemma 6: Explicit formula for  $\\tau_t$ (Updated Jun.24)"
   ]
  },
  {
   "cell_type": "markdown",
   "metadata": {},
   "source": [
    "We know from [Lemma 5](#lemma5) that $K_t+D_{t-1}=\\beta$ for any t. Thus \n",
    "$$(1-\\tau_t)R_t=R_t^*$$\n",
    "$$(1-\\tau_t)\\frac{F(K_t)}{K_t}=\\frac{F(K_t^*)}{K_t^*}$$\n",
    "$$(1-\\tau_t)K_t^{\\alpha-1}=K_t^*(\\alpha-1)$$\n",
    "$$(1-\\tau_t)(\\beta-D_{t-1})^{\\alpha-1}=\\beta^*(\\alpha-1)$$\n",
    "$$\\tau_t=1-(\\frac{\\beta-D_{t-1}}{\\beta})^{1-\\alpha}$$"
   ]
  },
  {
   "cell_type": "markdown",
   "metadata": {},
   "source": [
    "## 2.4 Predicted Effects of Such Policies"
   ]
  },
  {
   "cell_type": "markdown",
   "metadata": {},
   "source": [
    "**Claim: If $R^f_t<1 \\ \\forall t$, then the policy causes a Pareto improvement so long as $D$ is small enough. This does not depend on $E[R^t]$ at all.**"
   ]
  },
  {
   "cell_type": "markdown",
   "metadata": {},
   "source": [
    "_**tentative proof:**_\n",
    "\n",
    "(The proof is basically the same as [above](#proof-of-effect-1).)\n",
    "\n",
    "Assume we impose a small debt $D$ and proportional tax and subsidy such that $R_{t+1}=R_{t+1}^*$. \n",
    "\n",
    "1. For the old at time $t=1$, utility is increased as a result of government transfer.\n",
    "\n",
    "2. Consider the young at time t=1:\n",
    "Each of them chooses $C_{y,1}$ and $D$ to maximize utility\n",
    "$$V_1=C_{y,1}+\\beta ln(R_1^fD+R_2^*K_1)$$\n",
    "subject to the constraint that\n",
    "$$C_{y,1}+K_1=W_1=W_1^*$$\n",
    "Recall that without government debt, tax or subsidy, the young chooses $C_{y,1}^*$ to maximize utility\n",
    "$$V_1^*=C_{y,1}^*+\\beta ln(R_2^*K_1^*)$$\n",
    "subject to the constraint that \n",
    "$$C_{y,1}^*+K_1^*=W_1^*$$\n",
    "Notice that any realized value of $V_1^*$ can be achieved by $V_1$ if we choose $D=0$ and maximize over values of $C_{y,1}$ only. As a result, we must have $$\\max V_1\\ge \\max V_1^*$$ \n",
    "In other words, **for the young at time $t=1$, the policy will not lead to a decrease in utility.**\n",
    "\n",
    "3. We now consider the young at time $t>1$. (That's the problematic part.)\n",
    "He/She chooses $C_{y,t}$ and $D$ to maximize utility\n",
    "$$V_t=C_{y,t}+\\beta ln(R_t^fD+R_{t+1}^*K_t)$$\n",
    "subject to the constraint that\n",
    "$$C_{y,t}+K_{t+1}+D=W_t+\\tau_tR_tK_t+(1-R_{t-1}^fD)$$\n",
    "which can be written equivalently as\n",
    "$$C_{y,t}+K_{t+1}+R_{t-1}^fD=W_t+\\tau_tR_tK_t$$\n",
    "Recall that without government debt, tax or subsidy, the young chooses $C_{y,t}^*$ to maximize utility\n",
    "$$V_t^*=C_{y,t}^*+\\beta ln(R_{t+1}^*K_t^*)$$\n",
    "subject to the constraint that \n",
    "$$C_{y,t}^*+K_t^*=W_t^*$$"
   ]
  },
  {
   "cell_type": "markdown",
   "metadata": {},
   "source": [
    "**A small result from $\\tau_t$: we cannot hold both the risky return and after-subsidy wage constant if we only use proportional tax and subsidy and debt.**\n",
    "See proof [above](#proof-of-lemma-1)."
   ]
  },
  {
   "cell_type": "code",
   "execution_count": 1,
   "metadata": {},
   "outputs": [
    {
     "data": {
      "application/javascript": [
       "$.getScript('https://kmahelona.github.io/ipython_notebook_goodies/ipython_notebook_toc.js')\n"
      ],
      "text/plain": [
       "<IPython.core.display.Javascript object>"
      ]
     },
     "metadata": {},
     "output_type": "display_data"
    }
   ],
   "source": [
    "%%javascript\n",
    "$.getScript('https://kmahelona.github.io/ipython_notebook_goodies/ipython_notebook_toc.js')"
   ]
  },
  {
   "cell_type": "code",
   "execution_count": null,
   "metadata": {},
   "outputs": [],
   "source": []
  }
 ],
 "metadata": {
  "kernelspec": {
   "display_name": "Python 3",
   "language": "python",
   "name": "python3"
  },
  "language_info": {
   "codemirror_mode": {
    "name": "ipython",
    "version": 3
   },
   "file_extension": ".py",
   "mimetype": "text/x-python",
   "name": "python",
   "nbconvert_exporter": "python",
   "pygments_lexer": "ipython3",
   "version": "3.6.5"
  },
  "latex_envs": {
   "LaTeX_envs_menu_present": false,
   "autoclose": true,
   "autocomplete": true,
   "bibliofile": "biblio.bib",
   "cite_by": "apalike",
   "current_citInitial": 1,
   "eqLabelWithNumbers": true,
   "eqNumInitial": 1,
   "hotkeys": {
    "equation": "Ctrl-E",
    "itemize": "Ctrl-I"
   },
   "labels_anchors": false,
   "latex_user_defs": false,
   "report_style_numbering": true,
   "user_envs_cfg": true
  },
  "toc": {
   "base_numbering": 1,
   "nav_menu": {
    "height": "139px",
    "width": "160px"
   },
   "number_sections": true,
   "sideBar": true,
   "skip_h1_title": false,
   "title_cell": "Table of Contents",
   "title_sidebar": "Contents",
   "toc_cell": false,
   "toc_position": {},
   "toc_section_display": true,
   "toc_window_display": false
  }
 },
 "nbformat": 4,
 "nbformat_minor": 2
}
