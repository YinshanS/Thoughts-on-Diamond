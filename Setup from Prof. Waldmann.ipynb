{
 "cells": [
  {
   "cell_type": "markdown",
   "metadata": {},
   "source": [
    "# The Basic Setup"
   ]
  },
  {
   "cell_type": "markdown",
   "metadata": {},
   "source": [
    "## Assumptions"
   ]
  },
  {
   "cell_type": "markdown",
   "metadata": {},
   "source": [
    "1. Agents act to maximize an additively separable utility function, both consumption when young and consumption when old are normal goods. \n",
    "$$V=u_y(C_y)+u_o(C_o)$$\n",
    "2. Moreover, we might need constant risk-aversion.**(Why?)** This means the coefficient for relative risk aversion is constant. $$-\\frac{cV''(c)}{V'(c)}=\\text{some constant} $$\n",
    "\n",
    "3. The only stochastic terms are Hicks neutral technology shocks. (The assumption of Hicks neutrality is actually used below.) For convenience, $L= 1$, $$Y_t = A_tF(K,1)=A_tf(K)$$ \n",
    "\n",
    "    (*Hicks Neutral changes: \"An invention which raises the marginal productivity of labour and capital in same proportion.\" For production function $Y=A\\cdot F(K,L)$, they can be represented by changes in A.*)\n",
    "    \n",
    "4. Assume no population growth. All values are in per capita terms."
   ]
  },
  {
   "cell_type": "markdown",
   "metadata": {},
   "source": [
    "## Notations"
   ]
  },
  {
   "cell_type": "markdown",
   "metadata": {},
   "source": [
    "Let $K^*_t$,$W^*_t$,and $R^*_t$ denote values when $D = 0$.  To implement the policy, the government must calculate these numbers. This is feasible given standard assumptions that policy makers have rational expectations, that is understand the economy perfectly.\n",
    "\n",
    "\\begin{remark}\n",
    "Notice that at time $t-1$, $K^*_t$,$W^*_t$ are fixed values(can be explicitly computed), while $R^*_t$ is a random variable dependent on $A_t$. \n",
    "\\end{remark}\n"
   ]
  },
  {
   "cell_type": "markdown",
   "metadata": {},
   "source": [
    "## The Policy: Debt + Tax"
   ]
  },
  {
   "cell_type": "markdown",
   "metadata": {},
   "source": [
    "1. In period 1: \n",
    "    1. issue $D$ debt to the young\n",
    "        \\begin{remark}\n",
    "        To make the young willing (or more precisely, indifferent) to purchase the debt, first order condition determines $R^f_t \\ \\forall t$. The risk-free rate depends on the functional form of utility and magnitude of D. \\textbf{(explicit formula? any other determinants?)}\n",
    "        \\end{remark}\n",
    "        \n",
    "    2. distribute $D$ cash to the old, resulting in a welfare improvement for the old in period 1 by increasing $C_{o,1}$ by $D$.\n",
    "2. In period 2: \n",
    "    1. repay $R^f_1D$ cash to the old\n",
    "    2. issue $D$ debt to the young\n",
    "    3. give $(1-R^f_1)D$ cash to the young \n",
    "        \n",
    "        \\begin{remark}\n",
    "        Is this equivalent to issuing debt with higher return rate, since requires less initial cash?\n",
    "        \n",
    "        More specifically, B+C is equivalent to issuing $R^f_1D$ debt to the young at time t=2, with return rate $\\frac{R^f_2}{R^f_1}$\n",
    "        \\end{remark}\n",
    "    4. tax capital income at rate $\\tau_2$($\\tau_2$ varies over time and is chosen so the overall effect of the policy on after tax $R$ and $W$ is zero). \n",
    "    \n",
    "    Mathematically, this requires $$(1- \\tau_t)R_t = R_t^*$$ which implies $$W_t(1+ \\tau_tR_tK_t/W_t) = W_t^*$$\n",
    "        \\begin{remark}\n",
    "        $\\tau_t$ will also depend on $K_{t-1}$, the stock of capital given the policy.  In general this is a bit tricky, because $K_{t-1}$ depends on $\\tau_t$ so, in general the outcome is a Nash equilibrium of a game played by the fiscal authority and the economic agents.  However, since the aim is to get $(1- \\tau_t)R_t = R_t*$ which also implies $W_t(1+ \\tau_tR_tK_t/W_t) = W_t*$, it is possible to calculate $K_t$ without solving simultaneous equations.\n",
    "        \\end{remark}\n",
    "    5. subsidize wage $W$ with the revenue from that tax\n",
    "3. In period $t>2$:\n",
    "    1. repay $R^f_{t-1}D$ cash to the old\n",
    "    2. issue $D$ debt to the young\n",
    "    3. give $(1-R^f_{t-1})D$ cash to the young\n",
    "        \\begin{remark}\n",
    "        equivalent to issuing debt with higher return rate, since requires less initial cash?\n",
    "        \n",
    "        More specifically, B+C is equivalent to issuing $R^f_{t-1}D$ debt to the young at time t, with return rate $\\frac{R^f_t}{R^f_{t-1}}$\n",
    "        \\end{remark}\n",
    "    \n",
    "    4. tax capital income at rate $\\tau_t$($\\tau_t$ is chosen so the overall effect of the policy on after tax $R$ and $W$ is zero)\n",
    "    5. subsidize wage $W$ with the revenue from that tax"
   ]
  },
  {
   "cell_type": "markdown",
   "metadata": {},
   "source": [
    "## Predicted Effects of Such Policies"
   ]
  },
  {
   "cell_type": "markdown",
   "metadata": {},
   "source": [
    "**Claim: If $R^f_t<1 \\ \\forall t$, then the policy causes a Pareto improvement so long as $D$ is small enough. This does not depend on $E[R^t]$ at all.**"
   ]
  },
  {
   "cell_type": "markdown",
   "metadata": {},
   "source": [
    "For now, compare the policy to laissez faire with $D = 0$. (Conclusion may change with initial value of D.) \n",
    "\n",
    "We aim to investigate how this policy would change $C_{y,t}$ and $C_{o,t+1}$ for some $t>1$.\n",
    "\n",
    "1. Crowding out effect: Assume that given $W_t$ and $R_{t+1}$**(realized value or distribution at time t? should be distribution since the original $C_{y,t}$ is a maximizer of expected utility given information available at t)**, the policy has no effect on $C_{y,t}$. Then the only effect of the policy is that the debt crowds out $D$ and $K_t=K_t^*-D$. This ignores two terms.**(Why only 2 terms?)**\n",
    "\n",
    "2. One is that the lump sum subsidy $(1-R^f_t)D$ affects $K_t$. \n",
    "\n",
    "    The effect of the lump sum subsidy $(1-R^f_t)D$ depends on the age of the agents who receive it.  It causes an increase in $K$ if, as assumed above, it is given to the young.  It causes a reduction if it is given to the old.  Given the assumption above it causes Kt to increase by (1-Rft)Dt where t  is 1 minus the marginal propensity to consume, which in general varies over time but is less than one given the assumption that consumption when young is a normal good.\n",
    "    \n",
    "3. The other is that the availability of a safe asset in positive net supply affects saving for all utility functions, with logarithmic utility as an exception (which of course I used for all examples and simulations).\n",
    "    \\begin{proof}\n",
    "    An agent with utility function $$V=(1-\\beta)ln(C_{y,t})+\\beta ln(C_{o,t+1}) $$ maximizes his or her utility when $$C_{y,t}=(1-\\beta) W_t$$ \n",
    "    The amount saved is independent of investment choices or return rates.\n",
    "    \\end{proof}\n",
    "    ~~The envelope theorem implies that effect of availability of D units of safe asset on saving is second order in D and negligible for small enough D (proof needed?)~~\n",
    "    \n",
    "\n",
    "I conclude that to first order in D\n",
    "$$Kt = Kt* - D + (1-Rft)Dt$$\n",
    "So $$(1-/tau_t+1  )f’(Kt* - D + (1-Rft)Dt) = f’(Kt*) $$and\n",
    "$$Taut+1   = 1- f’(Kt*)/f’(Kt* - D + (1-Rft)Dt)$$  \n",
    "This tax and subsidy cancels the effect of D on W and R.\n"
   ]
  },
  {
   "cell_type": "markdown",
   "metadata": {},
   "source": [
    "# Things to Work on "
   ]
  },
  {
   "cell_type": "markdown",
   "metadata": {},
   "source": [
    "1. Recall from above: If $R^f_t < 1 \\ \\forall t$, then higher debt causes a Pareto improvement so long as the effects of debt on $W_t$ and $R_t$ are cancelled by a time varying tax on capital income which is used to finance a wage subsidy.\n",
    "\n",
    "    The additional work is to consider a constant tax.  This really works about as well, but I fear the welfare analysis has to be numerical as there aren't simple closed form results.\n",
    "    The policy which causes a Pareto improvement includes a very strange time varying tax which depends not only on capital K with debt and the tax, but also what capital would be without debt and taxes K*. \n",
    "    \n",
    "2. What happens with a sovereign carry trade selling bonds to buy stock? \"I think there are extremely simple results of the form Pareto improvement with probability 1-epsilon and worst case not very bad at all. \"\n",
    "\n",
    "3. "
   ]
  },
  {
   "cell_type": "markdown",
   "metadata": {},
   "source": [
    "# From Prof. Waldmann Apr.25, on dynamic inefficiency"
   ]
  },
  {
   "cell_type": "markdown",
   "metadata": {},
   "source": [
    "3. there is 2016 stuff on cases where $W_t$ doesn't vary so the general equilibrium effect of debt is a safe transfer which has welfare effects which depend on the safe rate Rf.  I add to this Summers thought about shocks which affect R but not K (simplest way to model them is capital biased technology shocks) .  Here I think one way forward (which I haven't really done beyond some FREDing) is empirical.  In fact labor's share is countercyclical. An asset which paid x% of wages would be safer than equity.  The long list of possible explanations is relevant but it will be hard to tell which matters. The point is that this means that the welfare effects of debt through W and R depend on an interest rate far below the return on equities.\n",
    "\n",
    "\n",
    "\n",
    "\n",
    "a) OK the data are tricky because one has to decide how literally to take the OLG model. Are time periods really generations or is the OLG model used to model short planning horizons due to bounded rationality ?  I think the second interpretation is the one which will be fruitful, some time, years or decades from now, when macroeconomists get over the now decades long rational expectations fad.  But here we are in the present where the Diamond OLG model is semi forgotten and exotic, and an interpretation of it based on saying people are obviously boundedly rational will not be allowed.\n",
    "\n",
    "But I still think simple calculations about how yes indeed the share of labor is countercyclical would be useful as motivation.\n",
    "\n",
    "b) Summers. This is the simplest and most standard approach.  It works fine if we just say that technology shocks aren't Hicks neutral (no reason for them to be) and are instead capital biased. Summers's own thought about how the risk is variable price of claims on K not variable revenue allows too much reality to get involved.  I'm sure this is what's going on.  It brings us back to Noise Trader Risk in financial markets (1990)..  For present purposes it creates trouble, because a variable price of K has complicated effects in an OLG model. The complicated effects are that the price of capital in time t will affect (real) investment at time t.   I guess there might be a knife age exception.  So W varies because K varies even if asset price shocks (noise) doesn't affect W directly.  This becomes a tricky model to analyse. It might be interesting.\n",
    "\n",
    " Here it is important that the model does *not* have a safe asset or storage technology.  If there is a safe asset, then D crowds out that safe asset and it-s sort of obvious that welfare effects depend only on Rf-(1+g).  Actually writing this out might be worthwhile.\n",
    "\n",
    "c) yeah why can't we assume a storage technology ?  Goods are stored in the real world. There are, in fact, assets which aren't sovereign debt and which are fairly safe (AAA bonds).  They are the assets which should be crowded out by D.  A model with a safe asset other than D is trivially simpl.  This is a good thing, because it is more realistic and much easier to solve..  I think the fact that the paper basically becomes a sequel to Delong et al 1990 and even more so Delong et al 1989 (size and incidence) is another good thing.  I would dust off the old model.  \n",
    "\n",
    "d) Nick Rowe's point that wages are safe if hiring is done before the shock is revealed. This is clear and simple. I think it is worth mentioning with very clear thanks to Rowe.\n",
    "\n",
    "e) idiosyncratic risk which matters for the risky return R.  This was my original idea.  I think working on this assuming full rationality is silly.  I think some hand waving about principal agent reasons that risk can't be diversified is OK, but the main point is that own risk is priced  CAPM fails Reality. Data.  The useful point is that whatever risk causes the return on stock to be very high is not relevant to policy makers.  The case for debt and or socialism was proven by Mehra and Prescott (additional bonus \"public ownership of the means of production is efficient as proven by Prescott\" would be really fun to write).  A problem is that this is the point Quiggin has been making for decades.  \n",
    "\n",
    "Also I stress that thinking about why E(R) is so high might lead us away from a simple publishable paper into the endless rational expectations debate.\n"
   ]
  },
  {
   "cell_type": "code",
   "execution_count": 5,
   "metadata": {},
   "outputs": [
    {
     "data": {
      "application/javascript": [
       "// $.getScript('https://kmahelona.github.io/ipython_notebook_goodies/ipython_notebook_toc.js')\n"
      ],
      "text/plain": [
       "<IPython.core.display.Javascript object>"
      ]
     },
     "metadata": {},
     "output_type": "display_data"
    }
   ],
   "source": [
    "%%javascript\n",
    "// $.getScript('https://kmahelona.github.io/ipython_notebook_goodies/ipython_notebook_toc.js')"
   ]
  }
 ],
 "metadata": {
  "kernelspec": {
   "display_name": "Python 3",
   "language": "python",
   "name": "python3"
  },
  "language_info": {
   "codemirror_mode": {
    "name": "ipython",
    "version": 3
   },
   "file_extension": ".py",
   "mimetype": "text/x-python",
   "name": "python",
   "nbconvert_exporter": "python",
   "pygments_lexer": "ipython3",
   "version": "3.6.5"
  },
  "latex_envs": {
   "LaTeX_envs_menu_present": false,
   "autoclose": true,
   "autocomplete": true,
   "bibliofile": "biblio.bib",
   "cite_by": "apalike",
   "current_citInitial": 1,
   "eqLabelWithNumbers": true,
   "eqNumInitial": 1,
   "hotkeys": {
    "equation": "Ctrl-E",
    "itemize": "Ctrl-I"
   },
   "labels_anchors": false,
   "latex_user_defs": false,
   "report_style_numbering": true,
   "user_envs_cfg": true
  },
  "toc": {
   "base_numbering": 1,
   "nav_menu": {
    "height": "139px",
    "width": "160px"
   },
   "number_sections": true,
   "sideBar": true,
   "skip_h1_title": false,
   "title_cell": "Table of Contents",
   "title_sidebar": "Contents",
   "toc_cell": false,
   "toc_position": {},
   "toc_section_display": true,
   "toc_window_display": false
  }
 },
 "nbformat": 4,
 "nbformat_minor": 2
}
